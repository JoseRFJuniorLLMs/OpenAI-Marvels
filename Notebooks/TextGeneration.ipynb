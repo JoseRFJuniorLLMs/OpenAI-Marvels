{
 "cells": [
  {
   "cell_type": "markdown",
   "metadata": {},
   "source": [
    "# Text Generation using OpenAI LLMs (GPT 3.5/GPT4)\n",
    "\n",
    "- Installation & Importing Libraries\n",
    "- Accessing OpenAI (Keys) & Setting up Client\n",
    "- Chat Completion API (Basic Text Generation)\n",
    "- Tokens\n",
    "- Embeddings\n",
    "- RAG\n",
    "- Fine Tuning"
   ]
  },
  {
   "cell_type": "markdown",
   "metadata": {},
   "source": [
    "<img src=\"../Assets/Images/profile.png\" width=50> [Hi! I'm Abhinav!](https://www.linkedin.com/in/abhinav-kimothi/)\n",
    "\n",
    "- Time (75 minutes coding + 15 minutes QnA)\n",
    "- Aim is to explore OpenAI features"
   ]
  },
  {
   "cell_type": "markdown",
   "metadata": {},
   "source": [
    "## Installation & Importing Libraries"
   ]
  },
  {
   "cell_type": "code",
   "execution_count": 1,
   "metadata": {},
   "outputs": [
    {
     "name": "stdout",
     "output_type": "stream",
     "text": [
      "Requirement already satisfied: pip in /Users/kim/Desktop/Github/OpenAI-Marvels/.venv/lib/python3.11/site-packages (22.3.1)\n",
      "Collecting pip\n",
      "  Using cached pip-24.0-py3-none-any.whl (2.1 MB)\n",
      "Installing collected packages: pip\n",
      "  Attempting uninstall: pip\n",
      "    Found existing installation: pip 22.3.1\n",
      "    Uninstalling pip-22.3.1:\n",
      "      Successfully uninstalled pip-22.3.1\n",
      "Successfully installed pip-24.0\n",
      "Note: you may need to restart the kernel to use updated packages.\n"
     ]
    }
   ],
   "source": [
    "%pip install --upgrade pip --quiet"
   ]
  },
  {
   "cell_type": "code",
   "execution_count": 40,
   "metadata": {},
   "outputs": [
    {
     "name": "stdout",
     "output_type": "stream",
     "text": [
      "Note: you may need to restart the kernel to use updated packages.\n"
     ]
    }
   ],
   "source": [
    "%pip install -r ../requirements.txt --quiet"
   ]
  },
  {
   "cell_type": "code",
   "execution_count": 3,
   "metadata": {},
   "outputs": [
    {
     "name": "stderr",
     "output_type": "stream",
     "text": [
      "/Users/kim/Desktop/Github/OpenAI-Marvels/.venv/lib/python3.11/site-packages/tqdm/auto.py:21: TqdmWarning: IProgress not found. Please update jupyter and ipywidgets. See https://ipywidgets.readthedocs.io/en/stable/user_install.html\n",
      "  from .autonotebook import tqdm as notebook_tqdm\n"
     ]
    }
   ],
   "source": [
    "import openai #OpenAI python library\n",
    "from openai import OpenAI #OpenAI Client\n",
    "from configparser import ConfigParser #library to read the config file\n",
    "import tiktoken #library to count tokens\n",
    "\n",
    "import gradio as gr #library for gradio interface\n",
    "\n",
    "import warnings\n",
    "warnings.filterwarnings('ignore')"
   ]
  },
  {
   "cell_type": "markdown",
   "metadata": {},
   "source": [
    "## \n",
    "___"
   ]
  },
  {
   "cell_type": "markdown",
   "metadata": {},
   "source": [
    "## Accessing OpenAI (Keys) & Setting up Client"
   ]
  },
  {
   "cell_type": "markdown",
   "metadata": {},
   "source": [
    "__Question__ : Have you procured your OpenAI API key?\n",
    "\n",
    "If not,  create one here - https://platform.openai.com/api-keys\n",
    "\n",
    "Also, check if you have sufficient balance - https://platform.openai.com/account/billing/overview"
   ]
  },
  {
   "cell_type": "markdown",
   "metadata": {},
   "source": [
    "__Step 1__ : Read and set the OpenAI API key in the environment"
   ]
  },
  {
   "cell_type": "code",
   "execution_count": 4,
   "metadata": {},
   "outputs": [],
   "source": [
    "config_object = ConfigParser()\n",
    "config_object.read(\"../config.ini\")\n",
    "openai.api_key = config_object[\"OPENAI\"][\"openai_key\"] #read the api key from the config file"
   ]
  },
  {
   "cell_type": "markdown",
   "metadata": {},
   "source": [
    "There are several ways of storing the API key in the environment. You may choose as per your preference or your organisation's policy"
   ]
  },
  {
   "cell_type": "markdown",
   "metadata": {},
   "source": [
    "__Step 2__: Initialize the OpenAI client. This serves as an interface to interact with OpenAI's services and APIs."
   ]
  },
  {
   "cell_type": "code",
   "execution_count": 5,
   "metadata": {},
   "outputs": [],
   "source": [
    "client = OpenAI(api_key=openai.api_key)"
   ]
  },
  {
   "cell_type": "markdown",
   "metadata": {},
   "source": [
    "And we're ready! Let's try and make the first call!"
   ]
  },
  {
   "cell_type": "code",
   "execution_count": 6,
   "metadata": {},
   "outputs": [
    {
     "name": "stdout",
     "output_type": "stream",
     "text": [
      "Hello! How can I assist you today?\n"
     ]
    }
   ],
   "source": [
    "response = client.chat.completions.create(\n",
    "  model=\"gpt-3.5-turbo\",\n",
    "  messages=[\n",
    "    {\"role\": \"user\", \"content\": \"Hello!\"}\n",
    "  ]\n",
    ")\n",
    "print(response.choices[0].message.content)"
   ]
  },
  {
   "cell_type": "markdown",
   "metadata": {},
   "source": [
    "## \n",
    "---"
   ]
  },
  {
   "cell_type": "markdown",
   "metadata": {},
   "source": [
    "## Chat Completion API (Basic Text Generation)"
   ]
  },
  {
   "cell_type": "markdown",
   "metadata": {},
   "source": [
    "### Introduction"
   ]
  },
  {
   "cell_type": "markdown",
   "metadata": {},
   "source": [
    "<span style=\"font-size: 20px; color: orange\">>><b>Generative AI, and LLMs specifically, is a General Purpose Technology that is useful for a variety of applications</b></span>\n",
    "\n",
    "<span style=\"font-size: 16px;\"><i>\"LLMs can be, generally, thought of as a next word prediction model\"</i></span>\n",
    "\n",
    "<span style=\"font-size: 16px; color: blue\"><b>What is an LLM?</b></span>\n",
    "\n",
    "- LLMs are __machine learning models__ that have learned from __massive datasets__ of human-generated content, finding statistical patterns to replicate human-like abilities.\n",
    "\n",
    "- __Foundation models__, also known as base models, have been trained on trillions of words for weeks or months using extensive compute power. These models have __billions of parameters__, which represent their memory and enable sophisticated tasks.\n",
    "\n",
    "- __Interacting with LLMs differs from traditional programming paradigms. Instead of formalized code syntax, you provide natural language prompts to the models__.\n",
    "\n",
    "- When you pass a __prompt__ to the model, it predicts the next words and generates a __completion__. This process is known as __inference__.\n"
   ]
  },
  {
   "cell_type": "markdown",
   "metadata": {},
   "source": [
    "<span style=\"font-size: 16px; color: blue\"> <b>Prompts, Completions and Inference!</b></span>\n",
    "\n",
    "<img src=\"../Assets/Images/LLM Inference.png\" width=800>"
   ]
  },
  {
   "cell_type": "markdown",
   "metadata": {},
   "source": [
    "<span style=\"font-size: 16px; color: blue\"> <b>Available OpenAI models</b></span>\n",
    "\n",
    "---\n",
    "\n",
    "__GPT 4__\n",
    "\n",
    "__<u>(Production)</u>__\n",
    "\n",
    "<u>Name        | Context Window    | Cut-off date      | Snapshot</u>\n",
    "\n",
    "__gpt-4__       | 8,192 tokens      | Up to Sep 2021    | gpt-4-0613\n",
    "\n",
    "__gpt-4-32k__   | 32,768 tokens     | Up to Sep 2021    | gpt-4-32k-0613\n",
    "\n",
    "<b><u>(Preview)</b></u>\n",
    "\n",
    "__gpt-4-turbo-preview__     | 128,000 tokens | Up to Dec 2023    | gpt-4-1106-preview\n",
    "\n",
    "__gpt-4-vision-preview__    | 128,000 tokens | Up to Apr 2023    | gpt-4-1106-vision-preview\n",
    "\n",
    "---\n",
    "\n",
    "__GPT 3.5__\n",
    "\n",
    "__gpt-3.5-turbo__ | 16,385 tokens | Up to Sep 2021 | gpt-3.5-turbo-1106\n",
    "\n",
    "__gpt-3.5-turbo-instruct__ | 4,096 tokens | Up to Sep 2021\n",
    "\n",
    "---\n",
    "\n",
    "For more details, visit the official documentation -> https://platform.openai.com/docs/models\n",
    "\n",
    "---\n",
    "\n",
    "<span style=\"font-size: 14px; color: orange\">__IMP__ : __\"model\"__ is passed as a parameter in the chat completions API</span>\n",
    "\n",
    "---\n",
    "\n",
    "\n",
    "\n"
   ]
  },
  {
   "cell_type": "markdown",
   "metadata": {},
   "source": [
    "<span style=\"font-size: 16px; color: blue\"> <b>OpenAI Chat Messages (Prompt) Structure</b></span>\n",
    "\n",
    "<span style=\"font-size: 16px;\"><u>Role</u></span> : OpenAI allows for *three* roles/personas - \n",
    "1. __System__ : The overarching constraints/definitions/intructions of the system that the LLM should \"remember\"\n",
    "2. __User__ : Any instruction a user wants to pass to the LLM\n",
    "3. __Assistant__ : The response from the LLM\n",
    "\n",
    "<span style=\"font-size: 16px;\"><u>Content</u></span> : Any message or \"prompt\" of these personas are passes as \"Content\"\n",
    "\n",
    "\n",
    "\n",
    "__Why is this important?__ : Makes it easier to adapt an LLM to store conversation history.\n",
    "\n",
    "---\n",
    "\n",
    "<span style=\"font-size: 14px; color: orange\">__IMP__ : __\"role\"__ and __\"content\"__ are passed as a dictionary in the __\"messages\"__ parameter in the chat completions API </span>\n",
    "\n",
    "---"
   ]
  },
  {
   "cell_type": "markdown",
   "metadata": {},
   "source": [
    "__Let's try__!"
   ]
  },
  {
   "cell_type": "code",
   "execution_count": 7,
   "metadata": {},
   "outputs": [],
   "source": [
    "response = client.chat.completions.create(\n",
    "  model=\"gpt-3.5-turbo\",\n",
    "  messages=[\n",
    "    {\"role\": \"system\", \"content\": \"You are a helpful assistant knowledgeable in the field of Cricket.\"},\n",
    "    {\"role\": \"user\", \"content\": \"When did Australia win their first Cricket World Cup?\"}\n",
    "  ]\n",
    ")"
   ]
  },
  {
   "cell_type": "code",
   "execution_count": 8,
   "metadata": {},
   "outputs": [
    {
     "name": "stdout",
     "output_type": "stream",
     "text": [
      "Australia won their first Cricket World Cup in 1987. They defeated England in the final held at the Eden Gardens in Kolkata, India to claim their maiden World Cup title.\n"
     ]
    }
   ],
   "source": [
    "print(response.choices[0].message.content)"
   ]
  },
  {
   "cell_type": "code",
   "execution_count": 11,
   "metadata": {},
   "outputs": [
    {
     "name": "stdout",
     "output_type": "stream",
     "text": [
      "('In the final of the 1987 Cricket World Cup, Australia scored 253 runs for '\n",
      " 'the loss of 5 wickets in their allotted 50 overs. England was bowled out for '\n",
      " '246 runs in reply, handing Australia a victory by 7 runs.')\n"
     ]
    }
   ],
   "source": [
    "response = client.chat.completions.create(\n",
    "  model=\"gpt-3.5-turbo\",\n",
    "  messages=[\n",
    "    {\"role\": \"system\", \"content\": \"You are a helpful assistant knowledgeable in the field of Cricket.\"},\n",
    "    {\"role\": \"user\", \"content\": \"When did Australia win their first Cricket World Cup?\"},\n",
    "    {\"role\": \"assistant\", \"content\": \"Australia won their first Cricket World Cup in the year 1987. They defeated England in the final to clinch their maiden title in the tournament.\"},\n",
    "    {\"role\": \"user\", \"content\": \"How much did they score?\"}\n",
    "  ]\n",
    ")\n",
    "\n",
    "from pprint import pprint\n",
    "\n",
    "pprint(response.choices[0].message.content)"
   ]
  },
  {
   "cell_type": "markdown",
   "metadata": {},
   "source": [
    "### Chat API Parameters"
   ]
  },
  {
   "cell_type": "markdown",
   "metadata": {},
   "source": [
    "<span style=\"font-size: 20px; color: orange\">>><b>\"model\"</b> and <b>\"messages\"</b> are the two required API parameters</span>\n",
    "\n",
    "<span style=\"font-size: 16px; color: blue\"> There are several other optional parameters that help configure the response</span>\n",
    "\n",
    "---"
   ]
  },
  {
   "cell_type": "markdown",
   "metadata": {},
   "source": [
    "__n__ : Number of responses you want the LLM to generate for the instriction\n",
    "\n",
    "__max_tokens__ : Maximum number of tokens you want to restrict the Inference to (This includes both the prompt/messages and the completion)\n",
    "\n",
    "__temperature__ : Temperature controls the \"randomness\" of the responses. Higher value increases the randomness; lower value makes the output deterministic (value between 0 and 2)\n",
    "\n",
    "__top_p__ : The model considers the results of the tokens with top_p probability mass (value between 0 and 1)\n",
    "\n",
    "\n",
    "<img src=\"../Assets/Images/Temperature - Top P.png\" width=600>\n",
    "\n",
    "<span style=\"font-size: 14px; color: orange\"> __IMP__ : It is recommended to configure either one of \"temperature\" and \"top_p\" but not both</span>\n",
    "\n",
    "\n",
    "__frequency_penalty__ : Penalize new tokens based on their existing frequency in the text so far *(Value between -2 and 2)*\n",
    "\n",
    "__presence_penalty__ : Penalize new tokens based on whether they appear in the text so far *(Value between -2 and 2)*\n",
    "\n",
    "__logprobs__ : Flag to return log probability of the generated tokens *(True/False)*\n",
    "\n",
    "__logit_bias__ : Parameter to control the presence of particular tokens in the output *(Value between -100 and 100)\n",
    "\n",
    "__response_format__ : Response of the model can be requested in a particular format *(Currently : JSON and Text)*\n",
    "\n",
    "__seed__ : Beta feature for reproducible outputs (setting a seed value may produce the same output repeatedly)\n",
    "\n",
    "__stop__ : End of Sequence tokens that will stop the generation\n",
    "\n",
    "__stream__ : To receive partial message deltas *(True/False)*\n",
    "\n",
    "__user__ : ID representing end user (This helps OpenAI detect abuse. May be mandatory for higher rate limits)\n",
    "\n",
    "__tools__ : TBD\n",
    "\n",
    "__tool_choice__ : TBD\n",
    "\n",
    "---"
   ]
  },
  {
   "cell_type": "code",
   "execution_count": 12,
   "metadata": {},
   "outputs": [],
   "source": [
    "def gpt_call(model:str=\"gpt-3.5-turbo\",prompt:str=\"Have I provided any input\",n:int=1,max_tokens:int=100,temperature:float=0.5,presence_penalty:float=0):\n",
    "\n",
    "\n",
    "    response = client.chat.completions.create(\n",
    "    model=model,\n",
    "    messages=[\n",
    "       {\"role\": \"user\", \"content\": prompt}\n",
    "    ],\n",
    "    max_tokens=max_tokens,\n",
    "    temperature=temperature,\n",
    "    presence_penalty=presence_penalty,\n",
    "    n=n\n",
    "    )\n",
    "    \n",
    "    output=''\n",
    "\n",
    "    for i in response.choices:\n",
    "        output+=str(i.message.content)+'\\n------------\\n'\n",
    "        \n",
    "    \n",
    "\n",
    "    return output\n",
    "\n",
    "\n",
    "    \n"
   ]
  },
  {
   "cell_type": "code",
   "execution_count": 13,
   "metadata": {},
   "outputs": [
    {
     "name": "stdout",
     "output_type": "stream",
     "text": [
      "Running on local URL:  http://127.0.0.1:7882\n",
      "\n",
      "To create a public link, set `share=True` in `launch()`.\n"
     ]
    },
    {
     "data": {
      "text/html": [
       "<div><iframe src=\"http://127.0.0.1:7882/\" width=\"100%\" height=\"500\" allow=\"autoplay; camera; microphone; clipboard-read; clipboard-write;\" frameborder=\"0\" allowfullscreen></iframe></div>"
      ],
      "text/plain": [
       "<IPython.core.display.HTML object>"
      ]
     },
     "metadata": {},
     "output_type": "display_data"
    },
    {
     "data": {
      "text/plain": []
     },
     "execution_count": 13,
     "metadata": {},
     "output_type": "execute_result"
    }
   ],
   "source": [
    "import gradio as gr\n",
    "\n",
    "def text_to_uppercase(model,n,max_tokens,temperature,presence_penalty,prompt):\n",
    "    return str(type(n)) + str(type(temperature))\n",
    "\n",
    "model=gr.Radio([\"gpt-4\",\"gpt-3.5-turbo\"], label=\"Select Model\")\n",
    "n=gr.Radio([1,2,3], label=\"Number of Responses\")\n",
    "max_tokens=gr.Slider(minimum=10, maximum=500, label=\"Maximum Tokens\")\n",
    "temperature=gr.Slider(minimum=0.0, maximum=1.0, label=\"Temperature\")\n",
    "prompt=gr.Text(label=\"Prompt\")\n",
    "\n",
    "\n",
    "iface = gr.Interface(fn=gpt_call, inputs=[model,prompt,n,max_tokens,temperature], outputs=\"text\")\n",
    "iface.launch()\n"
   ]
  },
  {
   "cell_type": "code",
   "execution_count": 14,
   "metadata": {},
   "outputs": [
    {
     "name": "stdout",
     "output_type": "stream",
     "text": [
      "Closing server running on port: 7882\n"
     ]
    }
   ],
   "source": [
    "iface.close()"
   ]
  },
  {
   "cell_type": "markdown",
   "metadata": {},
   "source": [
    "### Decoding the Response Object"
   ]
  },
  {
   "cell_type": "code",
   "execution_count": 15,
   "metadata": {},
   "outputs": [],
   "source": [
    "response = client.chat.completions.create(\n",
    "  model=\"gpt-3.5-turbo\",\n",
    "  messages=[\n",
    "    {\"role\": \"system\", \"content\": \"You are a helpful assistant knowledgeable in the field of Cricket.\"},\n",
    "    {\"role\": \"user\", \"content\": \"When did Australia win their first Cricket World Cup?\"},\n",
    "    {\"role\": \"assistant\", \"content\": \"Australia won their first Cricket World Cup in the year 1987. They defeated England in the final to clinch their maiden title in the tournament.\"},\n",
    "    {\"role\": \"user\", \"content\": \"How much did they score?\"}\n",
    "  ]\n",
    ")"
   ]
  },
  {
   "cell_type": "code",
   "execution_count": 16,
   "metadata": {},
   "outputs": [
    {
     "name": "stdout",
     "output_type": "stream",
     "text": [
      "{\n",
      "     \"id\": \"chatcmpl-94Z88WAuEwNkqhLfRo7m1jhMAB87w\",\n",
      "     \"choices\": [\n",
      "          {\n",
      "               \"finish_reason\": \"stop\",\n",
      "               \"index\": 0,\n",
      "               \"logprobs\": null,\n",
      "               \"message\": {\n",
      "                    \"content\": \"Australia scored 253/5 in their 50 overs in the final of the 1987 Cricket World Cup. England, in response, could only manage 246/8, resulting in Australia winning by 7 runs.\",\n",
      "                    \"role\": \"assistant\",\n",
      "                    \"function_call\": null,\n",
      "                    \"tool_calls\": null\n",
      "               }\n",
      "          }\n",
      "     ],\n",
      "     \"created\": 1710875380,\n",
      "     \"model\": \"gpt-3.5-turbo-0125\",\n",
      "     \"object\": \"chat.completion\",\n",
      "     \"system_fingerprint\": \"fp_4f2ebda25a\",\n",
      "     \"usage\": {\n",
      "          \"completion_tokens\": 45,\n",
      "          \"prompt_tokens\": 77,\n",
      "          \"total_tokens\": 122\n",
      "     }\n",
      "}\n"
     ]
    }
   ],
   "source": [
    "print((response.model_dump_json(indent=5)))\n"
   ]
  },
  {
   "cell_type": "markdown",
   "metadata": {},
   "source": [
    "<img src=\"../Assets/Images/Chat Completion Object.png\" width=1000>\n"
   ]
  },
  {
   "cell_type": "markdown",
   "metadata": {},
   "source": [
    "### Streaming"
   ]
  },
  {
   "cell_type": "code",
   "execution_count": null,
   "metadata": {},
   "outputs": [],
   "source": [
    "response = client.chat.completions.create(\n",
    "  model=\"gpt-3.5-turbo\",\n",
    "  messages=[\n",
    "    {\"role\": \"system\", \"content\": \"You are a helpful assistant knowledgeable in the field of Cricket.\"},\n",
    "    {\"role\": \"user\", \"content\": \"When did Australia win their first Cricket World Cup?\"},\n",
    "    {\"role\": \"assistant\", \"content\": \"Australia won their first Cricket World Cup in the year 1987. They defeated England in the final to clinch their maiden title in the tournament.\"},\n",
    "    {\"role\": \"user\", \"content\": \"How much did they score?\"}\n",
    "  ],\n",
    "  stream=True\n",
    ")\n",
    "\n",
    "for chunk in response:\n",
    "  print(chunk.choices[0].delta.content)\n"
   ]
  },
  {
   "cell_type": "code",
   "execution_count": null,
   "metadata": {},
   "outputs": [],
   "source": [
    "response = client.chat.completions.create(\n",
    "  model=\"gpt-3.5-turbo\",\n",
    "  messages=[\n",
    "    {\"role\": \"user\", \"content\": \"Write an email requesting for a leave of absence\"}\n",
    "  ],\n",
    "  stream=True\n",
    ")\n",
    "\n",
    "for chunk in response:\n",
    "  print(chunk.choices[0].delta.content)"
   ]
  },
  {
   "cell_type": "markdown",
   "metadata": {},
   "source": [
    "### JSON"
   ]
  },
  {
   "cell_type": "code",
   "execution_count": 19,
   "metadata": {},
   "outputs": [],
   "source": [
    "prompt=\"generate the entire text for a blog on a cricket match. \\\"Title\\\" is a catchy and attractive title of the blog. The \\\"Heading\\\" is the heading for each point in the blog and the \\\"Body\\\" is the text for that heading.Output in a json structure\""
   ]
  },
  {
   "cell_type": "code",
   "execution_count": 20,
   "metadata": {},
   "outputs": [
    {
     "name": "stdout",
     "output_type": "stream",
     "text": [
      "{\n",
      "  \"Title\": \"Riveting Rivalry: A Recap of the Epic Cricket Match\",\n",
      "  \"Heading1\": \"The Build-Up\",\n",
      "  \"Body1\": \"The anticipation was palpable as two of the top cricket teams in the world prepared to face off in a highly anticipated match. Fans from both sides were eager to see their favorite players in action and the excitement in the air was electric.\",\n",
      "  \"Heading2\": \"The Thrilling Start\",\n",
      "  \"Body2\": \"As the match got underway, both teams came out with guns blazing. The bowlers were on top of their game, taking crucial wickets early on. The batsmen fought hard, but runs were hard to come by as the pressure mounted.\",\n",
      "  \"Heading3\": \"The Turning Point\",\n",
      "  \"Body3\": \"Just when it seemed like one team had the upper hand, a crucial moment turned the tide. A brilliant catch, a stunning run out, or a game-changing six - the turning point in the match had everyone on the edge of their seats.\",\n",
      "  \"Heading4\": \"The Nail-Biting Finish\",\n",
      "  \"Body4\": \"As the match neared its end, the tension was palpable. With just a few runs needed to win, the final overs were an absolute nail-biter. Every run, every ball, every wicket was crucial as the outcome hung in the balance.\",\n",
      "  \"Heading5\": \"The Celebrations\",\n",
      "  \"Body5\": \"When the final wicket fell or the winning runs were scored, the stadium erupted in joy. Fans cheered, players embraced, and the celebrations were jubilant. It was a match to remember, a true display of skill, determination, and sportsmanship.\",\n",
      "  \"Conclusion\": \"The cricket match was a rollercoaster of emotions, with thrilling highs and heart-stopping lows. It was a testament to the beauty of the sport and the passion it inspires. As the dust settles, fans can only look forward to the next epic encounter between these rivals.\" \n",
      "}\n"
     ]
    }
   ],
   "source": [
    "response = client.chat.completions.create(\n",
    "  model=\"gpt-3.5-turbo\",\n",
    "  messages=[\n",
    "        {\"role\": \"user\", \"content\": prompt}\n",
    "  ],\n",
    "  response_format={ \"type\": \"json_object\" }\n",
    ")\n",
    "\n",
    "print(response.choices[0].message.content)"
   ]
  },
  {
   "cell_type": "markdown",
   "metadata": {},
   "source": [
    "## \n",
    "\n",
    "---"
   ]
  },
  {
   "cell_type": "markdown",
   "metadata": {},
   "source": [
    "## Tokens"
   ]
  },
  {
   "cell_type": "markdown",
   "metadata": {},
   "source": [
    "<span style=\"font-size: 20px; color: orange\">>><b>Tokens are the fundamental units of NLP</b></span>\n",
    "\n",
    "<span style=\"font-size: 16px; color: blue\"><b>These units are typically words, punctuation marks, or other meaningful substrings that make up the text</b></span>\n",
    "\n",
    "Counting the number of tokens becomes important because - \n",
    "- Number of Tokens determine the amount of computation required and hence the cost you incur\n",
    "- Context Window or the maximum number of tokens an LLM can process in one go is limited\n"
   ]
  },
  {
   "cell_type": "markdown",
   "metadata": {},
   "source": [
    "### Counting Tokens"
   ]
  },
  {
   "cell_type": "code",
   "execution_count": 257,
   "metadata": {},
   "outputs": [],
   "source": [
    "import tiktoken\n",
    "####num_tokens_from_string function to count number of tokens in a text string\n",
    "####uses tiktoken to count number of tokens in a text string\n",
    "####parameters: \"string\" is the text string, \"encoding_name\" is the encoding name to be used by tiktoken\n",
    "####returns: num_tokens->number of tokens in the text string\n",
    "####This function is used within extract_data, extract_page, extract_YT, extract_audio, extract_image functions\n",
    "def num_tokens_from_string(string: str, encoding_name=\"cl100k_base\") -> int: #### Function to count number of tokens in a text string ####\n",
    "    encoding = tiktoken.get_encoding(encoding_name) #### Initialize encoding ####\n",
    "    return len(encoding.encode(string)) #### Return number of tokens in the text string ####"
   ]
  },
  {
   "cell_type": "code",
   "execution_count": 258,
   "metadata": {},
   "outputs": [
    {
     "data": {
      "text/plain": [
       "5"
      ]
     },
     "execution_count": 258,
     "metadata": {},
     "output_type": "execute_result"
    }
   ],
   "source": [
    "num_tokens_from_string(\"Hello how are you?\")"
   ]
  },
  {
   "cell_type": "code",
   "execution_count": 259,
   "metadata": {},
   "outputs": [
    {
     "data": {
      "text/plain": [
       "38680"
      ]
     },
     "execution_count": 259,
     "metadata": {},
     "output_type": "execute_result"
    }
   ],
   "source": [
    "with open(\"../Assets/Data/alice_in_wonderland.txt\") as f:\n",
    "    AliceInWonderland = f.read()\n",
    "\n",
    "num_tokens_from_string(AliceInWonderland)"
   ]
  },
  {
   "cell_type": "markdown",
   "metadata": {},
   "source": [
    "### Pricing"
   ]
  },
  {
   "cell_type": "markdown",
   "metadata": {},
   "source": [
    "\n",
    "\n",
    "__gpt-3.5-turbo-0125__\t    |  PROMPT - $0.50 / 1M tokens   |   RESPONSE - $1.50 / 1M tokens\n",
    "\n",
    "__gpt-4__\t                |   PROMPT - $30.00 / 1M tokens\t|   RESPONSE - $60.00 / 1M tokens\n",
    "\n",
    "__gpt-4-turbo__             |\tPROMPT - $10.00 / 1M tokens\t|   RESPONSE - $30.00 / 1M tokens"
   ]
  },
  {
   "cell_type": "markdown",
   "metadata": {},
   "source": [
    "## \n",
    "\n",
    "---"
   ]
  },
  {
   "cell_type": "markdown",
   "metadata": {},
   "source": [
    "## Embeddings"
   ]
  },
  {
   "cell_type": "markdown",
   "metadata": {},
   "source": [
    "### Introduction"
   ]
  },
  {
   "cell_type": "markdown",
   "metadata": {},
   "source": [
    "<span style=\"font-size: 20px; color: orange\">>><b>Embeddings are vector representations of data that capture meaningful relationships between entities</b></span>\n",
    "\n",
    "<span style=\"font-size: 16px; color: blue\"><b>These units are typically words, punctuation marks, or other meaningful substrings that make up the text</b></span>\n",
    "\n",
    "- All Machine Learning/AI models work with numerical data. Before the performance of any operation all text/image/audio/video data has to be transformed into a numerical representation\n",
    "\n",
    "- As a general definition, embeddings are data that has been transformed into n-dimensional matrices for use in deep learning computations.\n",
    "\n",
    "<img src=\"../Assets/Images/Embeddings.png\" width=800>"
   ]
  },
  {
   "cell_type": "markdown",
   "metadata": {},
   "source": [
    "<span style=\"font-size: 16px; color: blue\"><b>OpenAI Embeddings</b></span>\n",
    "\n",
    "__text-embedding-3-small__\t| $0.02 / 1M tokens\n",
    "\n",
    "__text-embedding-3-large__\t| $0.13 / 1M tokens\n",
    "\n",
    "__ada v2__\t| $0.10 / 1M tokens"
   ]
  },
  {
   "cell_type": "code",
   "execution_count": 32,
   "metadata": {},
   "outputs": [],
   "source": [
    "\n",
    "client = OpenAI(api_key=openai.api_key)\n",
    "\n",
    "embeddings=client.embeddings.create(\n",
    "  model=\"text-embedding-3-small\",\n",
    "  input=\"The food was delicious\",\n",
    "  encoding_format=\"float\",\n",
    ")\n"
   ]
  },
  {
   "cell_type": "code",
   "execution_count": 33,
   "metadata": {},
   "outputs": [
    {
     "name": "stdout",
     "output_type": "stream",
     "text": [
      "{\n",
      "    \"data\": [\n",
      "        {\n",
      "            \"embedding\": [\n",
      "                -0.019819789,\n",
      "                -0.021811483,\n",
      "                -0.06169395,\n",
      "                -0.038838044,\n",
      "                0.011288293,\n",
      "                -0.032474335,\n",
      "                -0.007814972,\n",
      "                0.070437975,\n",
      "                -0.008889758,\n",
      "                -0.04471597,\n",
      "                0.020682048,\n",
      "                -0.030701242,\n",
      "                0.005167476,\n",
      "                -0.027980879,\n",
      "                -0.009915967,\n",
      "                -0.009472693,\n",
      "                0.018993964,\n",
      "                -0.021738617,\n",
      "                -0.017390894,\n",
      "                0.023438843,\n",
      "                0.053872906,\n",
      "                -0.0061329617,\n",
      "                -0.023001643,\n",
      "                -0.00004990622,\n",
      "                -0.0068859193,\n",
      "                0.03733213,\n",
      "                -0.00096320896,\n",
      "                -0.0014429159,\n",
      "                -0.009928111,\n",
      "                0.0076753106,\n",
      "                0.017220872,\n",
      "                -0.011616194,\n",
      "                0.023693878,\n",
      "                -0.03424743,\n",
      "                -0.026985032,\n",
      "                -0.022187963,\n",
      "                0.05358144,\n",
      "                0.0347575,\n",
      "                0.034417454,\n",
      "                0.02654783,\n",
      "                0.021520017,\n",
      "                0.060285192,\n",
      "                0.02459257,\n",
      "                0.026474964,\n",
      "                0.049743786,\n",
      "                -0.006090456,\n",
      "                -0.066988945,\n",
      "                0.03235289,\n",
      "                -0.01697798,\n",
      "                -0.0130067365,\n",
      "                -0.012375223,\n",
      "                0.015532788,\n",
      "                -0.0009791485,\n",
      "                0.00421717,\n",
      "                0.0072138202,\n",
      "                -0.0030148667,\n",
      "                -0.009970617,\n",
      "                0.03633628,\n",
      "                0.034660343,\n",
      "                -0.011713349,\n",
      "                0.037696462,\n",
      "                -0.005301065,\n",
      "                0.013492516,\n",
      "                0.016237168,\n",
      "                0.008561857,\n",
      "                -0.0541158,\n",
      "                -0.04933087,\n",
      "                0.008306824,\n",
      "                0.02654783,\n",
      "                0.00553181,\n",
      "                0.0152777545,\n",
      "                0.032765802,\n",
      "                -0.060430925,\n",
      "                -0.043501522,\n",
      "                0.047800668,\n",
      "                -0.007711744,\n",
      "                -0.02014769,\n",
      "                -0.051055387,\n",
      "                0.013589672,\n",
      "                -0.012101973,\n",
      "                -0.042748567,\n",
      "                0.019419022,\n",
      "                -0.014876987,\n",
      "                0.005914361,\n",
      "                0.02212724,\n",
      "                -0.07660737,\n",
      "                -0.036506303,\n",
      "                0.02329311,\n",
      "                -0.011160776,\n",
      "                0.08739167,\n",
      "                0.0002611063,\n",
      "                -0.004954947,\n",
      "                0.03638486,\n",
      "                -0.02283162,\n",
      "                0.040805448,\n",
      "                0.0009290526,\n",
      "                -0.053727172,\n",
      "                0.019637622,\n",
      "                -0.02584345,\n",
      "                0.05052103,\n",
      "                0.0516869,\n",
      "                -0.03215858,\n",
      "                0.0063819233,\n",
      "                -0.011452244,\n",
      "                0.017135859,\n",
      "                0.004384157,\n",
      "                0.058196343,\n",
      "                -0.048383605,\n",
      "                -0.022406563,\n",
      "                -0.025551984,\n",
      "                -0.033154428,\n",
      "                -0.022916632,\n",
      "                -0.015326332,\n",
      "                0.022673741,\n",
      "                0.011087909,\n",
      "                0.040586848,\n",
      "                0.042311363,\n",
      "                -0.10706572,\n",
      "                -0.020694192,\n",
      "                0.02773799,\n",
      "                -0.01746376,\n",
      "                0.013419649,\n",
      "                -0.024398258,\n",
      "                -0.054212954,\n",
      "                -0.027810857,\n",
      "                -0.048286445,\n",
      "                -0.0027203632,\n",
      "                0.02606205,\n",
      "                -0.030895554,\n",
      "                -0.020317713,\n",
      "                0.015678521,\n",
      "                -0.0010451842,\n",
      "                -0.017609494,\n",
      "                -0.014621953,\n",
      "                -0.01689297,\n",
      "                0.011786217,\n",
      "                -0.03657917,\n",
      "                -0.026523542,\n",
      "                -0.017718794,\n",
      "                0.01876322,\n",
      "                0.0060358057,\n",
      "                -0.016419334,\n",
      "                0.04432735,\n",
      "                -0.0037708606,\n",
      "                0.0006466935,\n",
      "                -0.05236699,\n",
      "                -0.06013946,\n",
      "                0.017038703,\n",
      "                0.016856536,\n",
      "                0.025600562,\n",
      "                -0.044643104,\n",
      "                0.014366918,\n",
      "                -0.024155369,\n",
      "                -0.0060024085,\n",
      "                -0.029802551,\n",
      "                -0.0050885365,\n",
      "                0.020803493,\n",
      "                0.0006717415,\n",
      "                0.03310585,\n",
      "                0.01852033,\n",
      "                -0.033470184,\n",
      "                0.010098134,\n",
      "                -0.032280024,\n",
      "                0.0074992157,\n",
      "                -0.0042900373,\n",
      "                0.0017457688,\n",
      "                -0.038449418,\n",
      "                0.03976102,\n",
      "                -0.035680477,\n",
      "                -0.023317399,\n",
      "                -0.03638486,\n",
      "                0.066794634,\n",
      "                0.009065853,\n",
      "                0.013674683,\n",
      "                -0.009065853,\n",
      "                -0.021374283,\n",
      "                0.031187022,\n",
      "                -0.037647884,\n",
      "                -0.00008055205,\n",
      "                -0.026985032,\n",
      "                -0.033008695,\n",
      "                0.062714085,\n",
      "                0.006296912,\n",
      "                0.021605028,\n",
      "                -0.0068677026,\n",
      "                -0.028320923,\n",
      "                -0.00034156346,\n",
      "                -0.009800594,\n",
      "                0.031575646,\n",
      "                0.05377575,\n",
      "                0.039032355,\n",
      "                0.013346782,\n",
      "                -0.0043507596,\n",
      "                -0.07932773,\n",
      "                -0.0021951145,\n",
      "                -0.042214207,\n",
      "                -0.016771525,\n",
      "                0.029001014,\n",
      "                -0.029438216,\n",
      "                0.01887252,\n",
      "                0.049452316,\n",
      "                0.032522913,\n",
      "                0.041339807,\n",
      "                -0.032887246,\n",
      "                0.03142991,\n",
      "                -0.03536472,\n",
      "                -0.025673429,\n",
      "                0.037137818,\n",
      "                -0.0013753622,\n",
      "                -0.027300788,\n",
      "                0.06606597,\n",
      "                -0.00843434,\n",
      "                -0.00902942,\n",
      "                0.016152157,\n",
      "                0.022418708,\n",
      "                0.021058526,\n",
      "                -0.018945387,\n",
      "                -0.007335265,\n",
      "                0.040465403,\n",
      "                0.037793618,\n",
      "                0.0239732,\n",
      "                0.00077572855,\n",
      "                0.08389406,\n",
      "                -0.012290212,\n",
      "                0.00041822548,\n",
      "                0.008525424,\n",
      "                -0.02215153,\n",
      "                -0.0045025656,\n",
      "                0.011519038,\n",
      "                0.019261144,\n",
      "                0.009946328,\n",
      "                0.044885993,\n",
      "                -0.004481313,\n",
      "                0.00015835262,\n",
      "                -0.04675624,\n",
      "                0.02283162,\n",
      "                -0.002841808,\n",
      "                0.03978531,\n",
      "                0.003946956,\n",
      "                0.035656188,\n",
      "                -0.012278068,\n",
      "                -0.026936453,\n",
      "                0.013832562,\n",
      "                0.04214134,\n",
      "                0.014634097,\n",
      "                0.04170414,\n",
      "                -0.0049336944,\n",
      "                -0.013237482,\n",
      "                -0.017913107,\n",
      "                -0.03631199,\n",
      "                0.005401257,\n",
      "                -0.005659327,\n",
      "                0.008476846,\n",
      "                -0.04131552,\n",
      "                -0.0049124416,\n",
      "                -0.004766708,\n",
      "                -0.003275973,\n",
      "                -0.004414518,\n",
      "                0.017184438,\n",
      "                -0.002819037,\n",
      "                -0.046076152,\n",
      "                0.029729683,\n",
      "                0.034393165,\n",
      "                0.02654783,\n",
      "                -0.0028752054,\n",
      "                0.03815795,\n",
      "                -0.004305218,\n",
      "                0.004001606,\n",
      "                -0.0356319,\n",
      "                0.0021723437,\n",
      "                -0.028709548,\n",
      "                -0.027567966,\n",
      "                0.016613647,\n",
      "                0.028102323,\n",
      "                0.0012577126,\n",
      "                0.0020144654,\n",
      "                -0.040708292,\n",
      "                0.030215463,\n",
      "                -0.026742142,\n",
      "                -0.015338477,\n",
      "                -0.018228862,\n",
      "                -0.03895949,\n",
      "                -0.04218992,\n",
      "                -0.040805448,\n",
      "                0.037089236,\n",
      "                -0.0119866,\n",
      "                0.005701833,\n",
      "                -0.01909112,\n",
      "                0.00867723,\n",
      "                -0.009241948,\n",
      "                -0.014403352,\n",
      "                -0.009673078,\n",
      "                0.056301802,\n",
      "                0.002922265,\n",
      "                -0.023572434,\n",
      "                0.036457725,\n",
      "                0.0031423839,\n",
      "                0.012405585,\n",
      "                0.047484912,\n",
      "                0.008920119,\n",
      "                0.030385485,\n",
      "                0.018568909,\n",
      "                -0.010286373,\n",
      "                -0.010887525,\n",
      "                0.0035704768,\n",
      "                0.015010576,\n",
      "                -0.039299533,\n",
      "                0.018447462,\n",
      "                -0.03140562,\n",
      "                0.049719498,\n",
      "                -0.042699985,\n",
      "                0.012363079,\n",
      "                0.044351637,\n",
      "                -0.0316728,\n",
      "                -0.027009321,\n",
      "                -0.038255107,\n",
      "                0.014682675,\n",
      "                0.02399749,\n",
      "                -0.01759735,\n",
      "                -0.02014769,\n",
      "                0.044375926,\n",
      "                -0.010334952,\n",
      "                0.03169709,\n",
      "                0.013868995,\n",
      "                0.024689725,\n",
      "                -0.051832635,\n",
      "                0.054164376,\n",
      "                -0.011743711,\n",
      "                -0.021605028,\n",
      "                -0.00669768,\n",
      "                0.013480372,\n",
      "                -0.0014087595,\n",
      "                0.007833188,\n",
      "                0.039032355,\n",
      "                -0.045056015,\n",
      "                -0.003473321,\n",
      "                0.013711116,\n",
      "                -0.021058526,\n",
      "                0.062956974,\n",
      "                0.030142596,\n",
      "                0.011695133,\n",
      "                -0.030798398,\n",
      "                -0.039882466,\n",
      "                -0.009169081,\n",
      "                0.022904487,\n",
      "                -0.011962311,\n",
      "                0.0435501,\n",
      "                0.04940374,\n",
      "                -0.041096915,\n",
      "                0.04029538,\n",
      "                -0.025551984,\n",
      "                0.0015332404,\n",
      "                -0.0439873,\n",
      "                0.043380078,\n",
      "                -0.005553063,\n",
      "                -0.020269135,\n",
      "                -0.038012218,\n",
      "                0.04867507,\n",
      "                -0.023086654,\n",
      "                0.008695447,\n",
      "                0.00048350205,\n",
      "                0.026960744,\n",
      "                0.055864602,\n",
      "                0.004126087,\n",
      "                0.013249626,\n",
      "                -0.005049067,\n",
      "                -0.0012721341,\n",
      "                -0.0020858143,\n",
      "                -0.017500194,\n",
      "                -0.006491224,\n",
      "                -0.014646241,\n",
      "                -0.0021298379,\n",
      "                -0.037890773,\n",
      "                -0.017099425,\n",
      "                -0.027543677,\n",
      "                0.016115723,\n",
      "                -0.018532474,\n",
      "                0.004484349,\n",
      "                0.0064062127,\n",
      "                0.024313247,\n",
      "                0.040149648,\n",
      "                0.0010451842,\n",
      "                0.0236453,\n",
      "                -0.042699985,\n",
      "                0.025139071,\n",
      "                -0.044594526,\n",
      "                -0.0010937621,\n",
      "                -0.019916944,\n",
      "                0.025697717,\n",
      "                -0.026523542,\n",
      "                0.04029538,\n",
      "                -0.030555509,\n",
      "                -0.026960744,\n",
      "                0.033688784,\n",
      "                -0.0054467986,\n",
      "                0.023876045,\n",
      "                0.01049283,\n",
      "                0.05474731,\n",
      "                0.0040441114,\n",
      "                0.005908289,\n",
      "                0.03655488,\n",
      "                -0.028806703,\n",
      "                -0.024871893,\n",
      "                -0.022309408,\n",
      "                0.009229803,\n",
      "                0.0037587162,\n",
      "                -0.04255425,\n",
      "                -0.016941547,\n",
      "                -0.033154428,\n",
      "                0.037599307,\n",
      "                0.0005677544,\n",
      "                -0.04313719,\n",
      "                0.025916317,\n",
      "                -0.0014239402,\n",
      "                0.010322806,\n",
      "                -0.031818535,\n",
      "                -0.023195954,\n",
      "                -0.0019689237,\n",
      "                0.016795814,\n",
      "                0.026134918,\n",
      "                -0.023001643,\n",
      "                0.011361159,\n",
      "                -0.02538196,\n",
      "                0.0030816614,\n",
      "                -0.008659014,\n",
      "                0.03837655,\n",
      "                0.022357985,\n",
      "                -0.042481385,\n",
      "                -0.01038353,\n",
      "                0.002890386,\n",
      "                -0.020572746,\n",
      "                -0.062422622,\n",
      "                0.024556136,\n",
      "                0.014124028,\n",
      "                -0.012909581,\n",
      "                -0.016516492,\n",
      "                -0.027519388,\n",
      "                0.020232702,\n",
      "                -0.031478487,\n",
      "                -0.037429284,\n",
      "                0.0025442683,\n",
      "                -0.015629943,\n",
      "                -0.011112198,\n",
      "                0.0050126337,\n",
      "                0.020402724,\n",
      "                -0.03733213,\n",
      "                0.03728355,\n",
      "                -0.0018915025,\n",
      "                0.026523542,\n",
      "                0.0078089,\n",
      "                0.01852033,\n",
      "                -0.0060388423,\n",
      "                -0.034684632,\n",
      "                0.009266237,\n",
      "                -0.041558407,\n",
      "                0.024531847,\n",
      "                -0.014682675,\n",
      "                0.0070680864,\n",
      "                -0.018641775,\n",
      "                -0.02985113,\n",
      "                0.0029465542,\n",
      "                0.019528322,\n",
      "                -0.043064322,\n",
      "                -0.019601189,\n",
      "                -0.0037131743,\n",
      "                0.01977121,\n",
      "                0.003725319,\n",
      "                0.060188036,\n",
      "                0.032668646,\n",
      "                -0.02226083,\n",
      "                -0.023657445,\n",
      "                0.028296635,\n",
      "                -0.008057862,\n",
      "                -0.014330485,\n",
      "                -0.012053395,\n",
      "                -0.054795887,\n",
      "                0.028490948,\n",
      "                -0.04189845,\n",
      "                0.0014307714,\n",
      "                -0.021799339,\n",
      "                0.00507032,\n",
      "                0.008525424,\n",
      "                -0.00431129,\n",
      "                0.0019431165,\n",
      "                -0.049282294,\n",
      "                -0.050909653,\n",
      "                0.017828094,\n",
      "                0.011245787,\n",
      "                0.0034854654,\n",
      "                0.0008979324,\n",
      "                0.0038437275,\n",
      "                0.026815008,\n",
      "                -0.012848859,\n",
      "                -0.011154704,\n",
      "                -0.011355087,\n",
      "                -0.0064487183,\n",
      "                -0.042262785,\n",
      "                -0.023475278,\n",
      "                -0.0035947657,\n",
      "                -0.013589672,\n",
      "                -0.009132648,\n",
      "                -0.049986675,\n",
      "                0.021920783,\n",
      "                -0.0036676326,\n",
      "                -0.044813126,\n",
      "                0.0049336944,\n",
      "                -0.04690198,\n",
      "                -0.054650154,\n",
      "                0.01794954,\n",
      "                -0.014974142,\n",
      "                0.017548772,\n",
      "                0.05154117,\n",
      "                -0.013711116,\n",
      "                -0.0057200496,\n",
      "                0.03755073,\n",
      "                0.0479464,\n",
      "                -0.028005168,\n",
      "                0.009393754,\n",
      "                -0.02467758,\n",
      "                0.038813755,\n",
      "                -0.037915062,\n",
      "                -0.031599935,\n",
      "                -0.0012106528,\n",
      "                -0.009770233,\n",
      "                0.018070985,\n",
      "                0.010541407,\n",
      "                0.02337812,\n",
      "                0.022224396,\n",
      "                -0.0016030712,\n",
      "                -0.03378594,\n",
      "                0.01575139,\n",
      "                -0.0015772642,\n",
      "                0.015447777,\n",
      "                -0.004305218,\n",
      "                0.025964895,\n",
      "                -0.013310349,\n",
      "                -0.002362101,\n",
      "                0.016249312,\n",
      "                -0.021022093,\n",
      "                -0.022297263,\n",
      "                0.021216404,\n",
      "                0.008288607,\n",
      "                0.0006144347,\n",
      "                -0.01779166,\n",
      "                0.0158364,\n",
      "                0.025066204,\n",
      "                -0.0016212879,\n",
      "                -0.03711353,\n",
      "                0.022783043,\n",
      "                -0.009169081,\n",
      "                -0.021131393,\n",
      "                -0.020718481,\n",
      "                -0.0024228236,\n",
      "                -0.008197523,\n",
      "                0.02017198,\n",
      "                0.03733213,\n",
      "                -0.007207748,\n",
      "                -0.040902603,\n",
      "                0.00924802,\n",
      "                0.041582696,\n",
      "                -0.016091434,\n",
      "                -0.01816814,\n",
      "                0.001852033,\n",
      "                -0.010863236,\n",
      "                -0.020803493,\n",
      "                0.03402883,\n",
      "                -0.006369779,\n",
      "                0.026985032,\n",
      "                0.036239125,\n",
      "                0.035218988,\n",
      "                0.013783983,\n",
      "                0.045517508,\n",
      "                0.0318914,\n",
      "                -0.054018643,\n",
      "                0.022868054,\n",
      "                0.024337536,\n",
      "                0.08297108,\n",
      "                0.016820103,\n",
      "                -0.00030626857,\n",
      "                0.023438843,\n",
      "                -0.02562485,\n",
      "                0.028490948,\n",
      "                -0.026887875,\n",
      "                0.007062014,\n",
      "                0.02036629,\n",
      "                -0.0012827605,\n",
      "                0.046974845,\n",
      "                0.009928111,\n",
      "                -0.022042228,\n",
      "                -0.03099271,\n",
      "                0.0018277441,\n",
      "                -0.016273601,\n",
      "                0.03912951,\n",
      "                -0.019589044,\n",
      "                0.007262398,\n",
      "                -0.0065155127,\n",
      "                -0.036287703,\n",
      "                0.03655488,\n",
      "                -0.004815286,\n",
      "                0.011840867,\n",
      "                0.008021428,\n",
      "                0.014767686,\n",
      "                0.012678836,\n",
      "                -0.0054376903,\n",
      "                -0.03696779,\n",
      "                0.03235289,\n",
      "                -0.008057862,\n",
      "                -0.0199048,\n",
      "                0.033203006,\n",
      "                -0.013650394,\n",
      "                -0.015047009,\n",
      "                0.000045612953,\n",
      "                0.0022619092,\n",
      "                0.0052373065,\n",
      "                -0.020414868,\n",
      "                -0.01746376,\n",
      "                -0.03419885,\n",
      "                -0.011828722,\n",
      "                -0.0055014486,\n",
      "                -0.022734463,\n",
      "                0.008495063,\n",
      "                0.01667437,\n",
      "                0.009205515,\n",
      "                -0.02795659,\n",
      "                0.0057655913,\n",
      "                0.026596408,\n",
      "                -0.045056015,\n",
      "                0.007857477,\n",
      "                0.014706964,\n",
      "                0.0055044848,\n",
      "                0.027883723,\n",
      "                0.0053587514,\n",
      "                0.021872206,\n",
      "                0.021532161,\n",
      "                -0.024616858,\n",
      "                0.048140712,\n",
      "                0.025503404,\n",
      "                0.017475905,\n",
      "                -0.037356418,\n",
      "                -0.02215153,\n",
      "                -0.010972536,\n",
      "                -0.020451302,\n",
      "                -0.010207434,\n",
      "                0.003679777,\n",
      "                -0.018350307,\n",
      "                0.041874163,\n",
      "                0.034417454,\n",
      "                -0.010322806,\n",
      "                -0.013905428,\n",
      "                -0.025139071,\n",
      "                0.010511046,\n",
      "                -0.048407894,\n",
      "                -0.028976725,\n",
      "                -0.010614274,\n",
      "                -0.0054923403,\n",
      "                0.023827467,\n",
      "                -0.02226083,\n",
      "                -0.010608202,\n",
      "                0.037890773,\n",
      "                -0.018326018,\n",
      "                0.014148317,\n",
      "                -0.014889131,\n",
      "                0.0008235475,\n",
      "                0.03308156,\n",
      "                -0.034636054,\n",
      "                -0.008179306,\n",
      "                -0.013796127,\n",
      "                -0.0032091786,\n",
      "                -0.0076692384,\n",
      "                -0.021192115,\n",
      "                0.047363468,\n",
      "                -0.022248685,\n",
      "                0.023171665,\n",
      "                0.017220872,\n",
      "                0.029073883,\n",
      "                -0.015848545,\n",
      "                0.011045404,\n",
      "                -0.0051219338,\n",
      "                0.043185767,\n",
      "                0.012253779,\n",
      "                -0.030944131,\n",
      "                -0.021629317,\n",
      "                -0.018180285,\n",
      "                0.0056411102,\n",
      "                0.018423174,\n",
      "                -0.07174958,\n",
      "                -0.004660444,\n",
      "                0.01233879,\n",
      "                0.007383843,\n",
      "                0.007632805,\n",
      "                -0.034903232,\n",
      "                0.01711157,\n",
      "                0.020633468,\n",
      "                -0.018678209,\n",
      "                0.03356734,\n",
      "                0.013188904,\n",
      "                0.00083948707,\n",
      "                0.014148317,\n",
      "                -0.0045329267,\n",
      "                -0.083311126,\n",
      "                0.009339104,\n",
      "                -0.024993338,\n",
      "                0.033664495,\n",
      "                -0.026183495,\n",
      "                -0.040028203,\n",
      "                0.015314188,\n",
      "                -0.025236227,\n",
      "                -0.03616626,\n",
      "                0.017439472,\n",
      "                0.020779204,\n",
      "                0.01849604,\n",
      "                0.028539525,\n",
      "                0.00082051137,\n",
      "                0.016467914,\n",
      "                0.0041473396,\n",
      "                0.049258005,\n",
      "                -0.028466659,\n",
      "                -0.0064001405,\n",
      "                0.016528636,\n",
      "                -0.013079603,\n",
      "                0.0024835458,\n",
      "                -0.0050308504,\n",
      "                0.017585205,\n",
      "                -0.046294753,\n",
      "                0.005601641,\n",
      "                0.0021662714,\n",
      "                0.05013241,\n",
      "                0.032110002,\n",
      "                0.031648513,\n",
      "                -0.001218243,\n",
      "                -0.010480685,\n",
      "                -0.040489692,\n",
      "                -0.013711116,\n",
      "                0.017560916,\n",
      "                0.04374441,\n",
      "                -0.006260479,\n",
      "                0.00797285,\n",
      "                -0.011561544,\n",
      "                -0.0156178,\n",
      "                -0.054844465,\n",
      "                -0.0055166297,\n",
      "                -0.018447462,\n",
      "                -0.016249312,\n",
      "                -0.023110943,\n",
      "                0.02014769,\n",
      "                -0.006296912,\n",
      "                0.03174567,\n",
      "                -0.023936767,\n",
      "                -0.030798398,\n",
      "                0.024896182,\n",
      "                -0.04330721,\n",
      "                0.007626733,\n",
      "                0.02456828,\n",
      "                -0.008300751,\n",
      "                0.0274951,\n",
      "                0.02388819,\n",
      "                -0.0008212704,\n",
      "                0.021872206,\n",
      "                0.0015909267,\n",
      "                -0.0038255109,\n",
      "                -0.010796442,\n",
      "                0.012095901,\n",
      "                0.029292483,\n",
      "                -0.024434691,\n",
      "                0.004183773,\n",
      "                0.012605969,\n",
      "                0.021847917,\n",
      "                -0.048820805,\n",
      "                -0.004997453,\n",
      "                0.003045228,\n",
      "                -0.0003557953,\n",
      "                -0.006190648,\n",
      "                0.037429284,\n",
      "                0.020839926,\n",
      "                0.010978608,\n",
      "                0.025527693,\n",
      "                0.0018930206,\n",
      "                0.030191174,\n",
      "                0.00023093485,\n",
      "                0.024373969,\n",
      "                0.024046067,\n",
      "                -0.019370444,\n",
      "                -0.009624499,\n",
      "                -0.024604714,\n",
      "                -0.003321515,\n",
      "                -0.028830992,\n",
      "                0.019977668,\n",
      "                -0.026134918,\n",
      "                -0.02887957,\n",
      "                -0.041412674,\n",
      "                -0.013468226,\n",
      "                -0.031332754,\n",
      "                0.02399749,\n",
      "                -0.00924802,\n",
      "                0.005990264,\n",
      "                0.0026307977,\n",
      "                0.011367232,\n",
      "                -0.018617487,\n",
      "                -0.010073845,\n",
      "                0.008246101,\n",
      "                0.012982448,\n",
      "                -0.013273915,\n",
      "                0.018070985,\n",
      "                0.013213193,\n",
      "                0.047144867,\n",
      "                -0.01686868,\n",
      "                -0.01654078,\n",
      "                0.05732194,\n",
      "                0.025479116,\n",
      "                -0.024604714,\n",
      "                0.0045268545,\n",
      "                -0.021762906,\n",
      "                -0.01328606,\n",
      "                0.0030224572,\n",
      "                0.060236614,\n",
      "                -0.031138442,\n",
      "                0.021568595,\n",
      "                -0.020317713,\n",
      "                -0.0035886934,\n",
      "                0.014148317,\n",
      "                0.020900648,\n",
      "                0.016905114,\n",
      "                -0.005343571,\n",
      "                0.003218287,\n",
      "                -0.033688784,\n",
      "                0.029535372,\n",
      "                0.02985113,\n",
      "                -0.01865392,\n",
      "                -0.010310662,\n",
      "                0.013504661,\n",
      "                0.014706964,\n",
      "                -0.01431834,\n",
      "                -0.024118934,\n",
      "                0.011585833,\n",
      "                0.021216404,\n",
      "                0.024604714,\n",
      "                0.008999059,\n",
      "                -0.00664303,\n",
      "                0.027908012,\n",
      "                -0.028296635,\n",
      "                0.014124028,\n",
      "                -0.005577352,\n",
      "                -0.014026873,\n",
      "                -0.023681734,\n",
      "                -0.01757306,\n",
      "                0.011604049,\n",
      "                0.009132648,\n",
      "                -0.029268194,\n",
      "                -0.021422861,\n",
      "                -0.0036190546,\n",
      "                -0.00019620924,\n",
      "                -0.041436963,\n",
      "                0.0007024822,\n",
      "                0.03636057,\n",
      "                0.022139385,\n",
      "                0.008003212,\n",
      "                0.020621324,\n",
      "                0.0026353518,\n",
      "                0.010171001,\n",
      "                -0.0787448,\n",
      "                -0.04520175,\n",
      "                0.04216563,\n",
      "                0.0072684707,\n",
      "                -0.028150901,\n",
      "                0.014986287,\n",
      "                -0.014379063,\n",
      "                -0.0015393127,\n",
      "                -0.015593511,\n",
      "                0.0011552435,\n",
      "                -0.004007678,\n",
      "                -0.02258873,\n",
      "                -0.036506303,\n",
      "                -0.03657917,\n",
      "                0.0012136889,\n",
      "                0.018848231,\n",
      "                0.025284804,\n",
      "                -0.015581367,\n",
      "                0.0026171352,\n",
      "                0.009509127,\n",
      "                -0.042481385,\n",
      "                0.036190547,\n",
      "                -0.028150901,\n",
      "                -0.041558407,\n",
      "                0.008039645,\n",
      "                -0.0037708606,\n",
      "                0.01570281,\n",
      "                -0.03262007,\n",
      "                0.029948285,\n",
      "                -0.011342943,\n",
      "                0.00012656824,\n",
      "                0.034636054,\n",
      "                -0.0052858843,\n",
      "                -0.004092689,\n",
      "                -0.03006973,\n",
      "                -0.023548145,\n",
      "                -0.024021778,\n",
      "                -0.006570163,\n",
      "                -0.021690039,\n",
      "                0.016480058,\n",
      "                -0.028903859,\n",
      "                -0.011245787,\n",
      "                0.019674055,\n",
      "                -0.009624499,\n",
      "                -0.016795814,\n",
      "                0.03495181,\n",
      "                -0.007086303,\n",
      "                0.00046300824,\n",
      "                -0.01794954,\n",
      "                0.03934811,\n",
      "                -0.018362451,\n",
      "                0.021046381,\n",
      "                -0.024969049,\n",
      "                0.01819243,\n",
      "                -0.0067219688,\n",
      "                -0.035243277,\n",
      "                0.050423875,\n",
      "                0.01363825,\n",
      "                -0.013480372,\n",
      "                -0.040829737,\n",
      "                0.032425757,\n",
      "                0.08044503,\n",
      "                -0.013407504,\n",
      "                0.03798793,\n",
      "                -0.013213193,\n",
      "                -0.016795814,\n",
      "                -0.011682988,\n",
      "                0.013516805,\n",
      "                -0.022139385,\n",
      "                -0.019698344,\n",
      "                -0.009071926,\n",
      "                0.017184438,\n",
      "                -0.024446836,\n",
      "                0.0052919565,\n",
      "                0.013516805,\n",
      "                -0.026620697,\n",
      "                -0.004208062,\n",
      "                0.009928111,\n",
      "                0.014816264,\n",
      "                0.011148632,\n",
      "                -0.038570866,\n",
      "                -0.004894225,\n",
      "                -0.012739558,\n",
      "                -0.029243905,\n",
      "                -0.02445898,\n",
      "                0.022710174,\n",
      "                0.016358612,\n",
      "                0.035437588,\n",
      "                -0.017403038,\n",
      "                0.008695447,\n",
      "                0.017123714,\n",
      "                0.046246175,\n",
      "                -0.016261457,\n",
      "                0.030094018,\n",
      "                -0.0027977843,\n",
      "                -0.021277126,\n",
      "                -0.008531496,\n",
      "                0.0072198925,\n",
      "                -0.013613961,\n",
      "                -0.035121832,\n",
      "                -0.013213193,\n",
      "                -0.04167985,\n",
      "                -0.000596977,\n",
      "                -0.0066308854,\n",
      "                0.008021428,\n",
      "                -0.0022953064,\n",
      "                -0.011883372,\n",
      "                -0.019807644,\n",
      "                0.0433315,\n",
      "                -0.04194703,\n",
      "                0.013067459,\n",
      "                -0.027567966,\n",
      "                -0.02676643,\n",
      "                0.020074824,\n",
      "                0.03330016,\n",
      "                -0.002131356,\n",
      "                0.0105171185,\n",
      "                0.03866802,\n",
      "                -0.01491342,\n",
      "                -0.022892343,\n",
      "                -0.00878653,\n",
      "                -0.013966151,\n",
      "                0.018908953,\n",
      "                0.007717816,\n",
      "                0.019759066,\n",
      "                -0.026985032,\n",
      "                -0.003956064,\n",
      "                0.035510454,\n",
      "                0.013711116,\n",
      "                -0.029389638,\n",
      "                -0.02049988,\n",
      "                0.024859749,\n",
      "                -0.012302357,\n",
      "                -0.008161089,\n",
      "                0.0030103126,\n",
      "                0.021520017,\n",
      "                0.0002396637,\n",
      "                0.0029480723,\n",
      "                0.025114782,\n",
      "                0.013917573,\n",
      "                0.00854364,\n",
      "                -0.03978531,\n",
      "                -0.004447915,\n",
      "                0.041777007,\n",
      "                -0.024228236,\n",
      "                -0.04678053,\n",
      "                -0.004818322,\n",
      "                0.024046067,\n",
      "                0.0056198575,\n",
      "                -0.02399749,\n",
      "                -0.0017655035,\n",
      "                -0.003910522,\n",
      "                -0.00854364,\n",
      "                -0.0097520165,\n",
      "                -0.0018155995,\n",
      "                -0.007887839,\n",
      "                -0.033251584,\n",
      "                -0.022491574,\n",
      "                0.006825197,\n",
      "                0.019030398,\n",
      "                0.009727728,\n",
      "                0.028199479,\n",
      "                -0.009071926,\n",
      "                -0.0060934923,\n",
      "                -0.032522913,\n",
      "                0.016443623,\n",
      "                -0.015532788,\n",
      "                0.02936535,\n",
      "                -0.0048547555,\n",
      "                0.045736108,\n",
      "                -0.03912951,\n",
      "                0.0018930206,\n",
      "                0.005301065,\n",
      "                -0.008701519,\n",
      "                -0.011962311,\n",
      "                0.032547202,\n",
      "                0.031867113,\n",
      "                -0.031624224,\n",
      "                -0.031259887,\n",
      "                -0.058779277,\n",
      "                0.010146712,\n",
      "                -0.020633468,\n",
      "                0.009132648,\n",
      "                0.0034034902,\n",
      "                0.03536472,\n",
      "                0.026450675,\n",
      "                -0.0016167337,\n",
      "                -0.019078976,\n",
      "                0.013261771,\n",
      "                0.018471751,\n",
      "                -0.024155369,\n",
      "                0.019722633,\n",
      "                -0.05732194,\n",
      "                0.01781595,\n",
      "                -0.005158367,\n",
      "                0.012302357,\n",
      "                -0.024337536,\n",
      "                0.03096842,\n",
      "                -0.024629002,\n",
      "                0.038109373,\n",
      "                -0.012618113,\n",
      "                -0.03976102,\n",
      "                0.02036629,\n",
      "                0.013116037,\n",
      "                -0.069806464,\n",
      "                0.013735405,\n",
      "                -0.012223418,\n",
      "                0.015447777,\n",
      "                -0.0077056717,\n",
      "                -0.008416124,\n",
      "                0.030191174,\n",
      "                0.013273915,\n",
      "                0.030118307,\n",
      "                0.010565696,\n",
      "                0.029195327,\n",
      "                -0.040465403,\n",
      "                -0.033275872,\n",
      "                -0.004444879,\n",
      "                -0.015909268,\n",
      "                -0.017609494,\n",
      "                0.008440413,\n",
      "                0.023390265,\n",
      "                0.0048092133,\n",
      "                0.0012660619,\n",
      "                0.040684003,\n",
      "                -0.0038771247,\n",
      "                0.01770665,\n",
      "                -0.020014102,\n",
      "                -0.052949928,\n",
      "                -0.0194676,\n",
      "                -0.009891678,\n",
      "                -0.03609339,\n",
      "                0.028005168,\n",
      "                0.015775679,\n",
      "                0.0018429246,\n",
      "                0.02841808,\n",
      "                0.019916944,\n",
      "                0.0014573374,\n",
      "                0.03636057,\n",
      "                0.006135998,\n",
      "                0.012836714,\n",
      "                0.015217031,\n",
      "                -0.029438216,\n",
      "                0.021459294,\n",
      "                -0.018581053,\n",
      "                0.025211938,\n",
      "                0.025527693,\n",
      "                0.043914434,\n",
      "                0.024386114,\n",
      "                -0.020269135,\n",
      "                -0.010395674,\n",
      "                0.027179344,\n",
      "                0.012618113,\n",
      "                0.01841103,\n",
      "                0.033421606,\n",
      "                0.047387756,\n",
      "                -0.00035181036,\n",
      "                0.002184488,\n",
      "                0.018326018,\n",
      "                -0.021738617,\n",
      "                0.006260479,\n",
      "                -0.02003839,\n",
      "                0.0081914505,\n",
      "                -0.000013994614,\n",
      "                0.008361474,\n",
      "                -0.018447462,\n",
      "                0.0056684352,\n",
      "                -0.020050535,\n",
      "                0.026110629,\n",
      "                -0.055816025,\n",
      "                -0.011355087,\n",
      "                -0.0017154076,\n",
      "                0.013164615,\n",
      "                0.0104624685,\n",
      "                -0.0077603217,\n",
      "                -0.00062468165,\n",
      "                0.005969011,\n",
      "                0.025794873,\n",
      "                -0.022163674,\n",
      "                0.0069952197,\n",
      "                0.026863586,\n",
      "                0.021920783,\n",
      "                -0.004444879,\n",
      "                -0.029875418,\n",
      "                0.022892343,\n",
      "                0.0048669,\n",
      "                -0.03330016,\n",
      "                -0.000760548,\n",
      "                0.09807881,\n",
      "                -0.0063090567,\n",
      "                0.0065337294,\n",
      "                0.02076706,\n",
      "                0.009715583,\n",
      "                -0.012095901,\n",
      "                -0.010073845,\n",
      "                0.005956867,\n",
      "                0.017670216,\n",
      "                -0.0037921134,\n",
      "                0.022734463,\n",
      "                -0.021957217,\n",
      "                0.008877614,\n",
      "                0.0030558545,\n",
      "                0.04216563,\n",
      "                0.022248685,\n",
      "                -0.024762591,\n",
      "                -0.015678521,\n",
      "                0.023681734,\n",
      "                -0.014039017,\n",
      "                0.033470184,\n",
      "                0.031454198,\n",
      "                -0.0011097017,\n",
      "                -0.019273289,\n",
      "                -0.025576273,\n",
      "                0.002741616,\n",
      "                -0.010061701,\n",
      "                -0.04918514,\n",
      "                -0.018641775,\n",
      "                0.030701242,\n",
      "                0.04056256,\n",
      "                -0.007298832,\n",
      "                0.009308743,\n",
      "                0.009667005,\n",
      "                0.022528008,\n",
      "                -0.0102438675,\n",
      "                0.009126576,\n",
      "                -0.008015356,\n",
      "                -0.03281438,\n",
      "                -0.0060266973,\n",
      "                -0.006740186,\n",
      "                0.033397317,\n",
      "                0.0013381698,\n",
      "                0.023038076,\n",
      "                0.015289899,\n",
      "                0.023742456,\n",
      "                0.0012569536,\n",
      "                -0.017500194,\n",
      "                -0.014379063,\n",
      "                -0.011500821,\n",
      "                0.018921098,\n",
      "                -0.022115096,\n",
      "                -0.016589358,\n",
      "                -0.018508185,\n",
      "                -0.020451302,\n",
      "                -0.015034865,\n",
      "                0.014549086,\n",
      "                -0.06407427,\n",
      "                0.00629084,\n",
      "                0.0106264185,\n",
      "                -0.0104624685,\n",
      "                -0.012508813,\n",
      "                0.005877928,\n",
      "                -0.006242262,\n",
      "                0.026110629,\n",
      "                0.013346782,\n",
      "                -0.031454198,\n",
      "                -0.0011605568,\n",
      "                0.020997804,\n",
      "                0.020135546,\n",
      "                0.016807958,\n",
      "                0.021544306,\n",
      "                -0.01008599,\n",
      "                0.00020342002,\n",
      "                0.006169395,\n",
      "                0.011106126,\n",
      "                0.021483583,\n",
      "                -0.0025564127,\n",
      "                -0.010104206,\n",
      "                -0.016067145,\n",
      "                -0.020378435,\n",
      "                0.037162106,\n",
      "                0.023936767,\n",
      "                0.004244495,\n",
      "                -0.0018444427,\n",
      "                -0.019601189,\n",
      "                -0.03281438,\n",
      "                0.010705358,\n",
      "                -0.015994279,\n",
      "                -0.009563777,\n",
      "                0.005911325,\n",
      "                0.021082815,\n",
      "                -0.0006341695,\n",
      "                0.035267565,\n",
      "                0.020196268,\n",
      "                0.03910522,\n",
      "                -0.007924273,\n",
      "                0.014051162,\n",
      "                -0.043598678,\n",
      "                -0.0069648586,\n",
      "                0.015775679,\n",
      "                -0.01570281,\n",
      "                0.0039955336,\n",
      "                0.04235994,\n",
      "                -0.0023028967,\n",
      "                -0.01781595,\n",
      "                -0.03774504,\n",
      "                -0.023936767,\n",
      "                -0.010638563,\n",
      "                -0.04255425,\n",
      "                0.013164615,\n",
      "                -0.006163323,\n",
      "                -0.0072927596,\n",
      "                0.03028833,\n",
      "                0.009521271,\n",
      "                0.024446836,\n",
      "                -0.041995607,\n",
      "                0.005525738,\n",
      "                -0.011573688,\n",
      "                -0.015909268,\n",
      "                0.004751527,\n",
      "                0.011160776,\n",
      "                0.0037860412,\n",
      "                0.026110629,\n",
      "                0.041145492,\n",
      "                -0.015994279,\n",
      "                0.030094018,\n",
      "                0.046877686,\n",
      "                0.025479116,\n",
      "                -0.010268156,\n",
      "                0.013298204,\n",
      "                -0.01838674,\n",
      "                -0.011604049,\n",
      "                -0.015848545,\n",
      "                0.009964544,\n",
      "                -0.004359868,\n",
      "                0.0011544845,\n",
      "                -0.007055942,\n",
      "                0.0033761652,\n",
      "                -0.001471,\n",
      "                -0.011136487,\n",
      "                0.08316539,\n",
      "                -0.031794246,\n",
      "                0.02283162,\n",
      "                0.03281438,\n",
      "                0.004241459,\n",
      "                -0.031332754,\n",
      "                -0.015423488,\n",
      "                0.011597977,\n",
      "                -0.000016093807,\n",
      "                0.0088472525,\n",
      "                0.01570281,\n",
      "                0.014852697,\n",
      "                -0.03351876,\n",
      "                0.020524168,\n",
      "                0.0041078697,\n",
      "                0.046246175,\n",
      "                0.00629084,\n",
      "                0.002210295,\n",
      "                -0.04452166,\n",
      "                0.012861003,\n",
      "                -0.0026520505,\n",
      "                0.013783983,\n",
      "                0.03281438,\n",
      "                0.014391207,\n",
      "                0.02562485,\n",
      "                -0.02226083,\n",
      "                -0.005483232,\n",
      "                -0.021228548,\n",
      "                -0.00074157224,\n",
      "                0.016722947,\n",
      "                -0.022430852,\n",
      "                0.0018110453,\n",
      "                0.0037647884,\n",
      "                -0.010359241,\n",
      "                0.009108359,\n",
      "                -0.03395596,\n",
      "                0.01808313,\n",
      "                0.0030300475,\n",
      "                -0.021252837,\n",
      "                0.006296912,\n",
      "                -0.00006636768,\n",
      "                0.009509127,\n",
      "                -0.017220872,\n",
      "                0.027762279,\n",
      "                -0.016965836,\n",
      "                -0.024046067,\n",
      "                -0.033615917,\n",
      "                -0.033591628,\n",
      "                -0.0148648415,\n",
      "                0.023353832,\n",
      "                0.021058526,\n",
      "                -0.0016440589,\n",
      "                0.017633783,\n",
      "                -0.019406877,\n",
      "                0.052998506,\n",
      "                -0.015071298,\n",
      "                0.03026404,\n",
      "                -0.0056532547,\n",
      "                -0.014634097,\n",
      "                -0.03750215,\n",
      "                -0.005662363,\n",
      "                -0.023936767,\n",
      "                0.029171038,\n",
      "                0.019856222,\n",
      "                0.023110943,\n",
      "                0.0077481773,\n",
      "                -0.0012599897,\n",
      "                0.02039058,\n",
      "                0.0026171352,\n",
      "                -0.010013123,\n",
      "                0.04194703,\n",
      "                -0.03398025,\n",
      "                0.0021283198,\n",
      "                -0.004305218,\n",
      "                0.06494867,\n",
      "                -0.007505288,\n",
      "                0.050472453,\n",
      "                -0.0029161929,\n",
      "                -0.011865156,\n",
      "                -0.0124602355,\n",
      "                -0.012023034,\n",
      "                0.005373932,\n",
      "                -0.038595155,\n",
      "                -0.013031025,\n",
      "                -0.010693214,\n",
      "                0.0023939803,\n",
      "                -0.028102323,\n",
      "                -0.023633156,\n",
      "                -0.0037162104,\n",
      "                0.02586774,\n",
      "                0.018908953,\n",
      "                0.01008599,\n",
      "                -0.046683375,\n",
      "                -0.03334874,\n",
      "                -0.0047545633,\n",
      "                -0.0048577916,\n",
      "                -0.01865392,\n",
      "                0.01030459,\n",
      "                0.0035158265,\n",
      "                -0.029996863,\n",
      "                0.0043720123,\n",
      "                -0.039250955,\n",
      "                0.0059234696,\n",
      "                -0.0055348463,\n",
      "                0.022758754,\n",
      "                -0.015204887,\n",
      "                0.013954006,\n",
      "                -0.009873461,\n",
      "                -0.026474964,\n",
      "                -0.01456123,\n",
      "                -0.008403979,\n",
      "                0.020402724,\n",
      "                -0.003476357,\n",
      "                0.01228414,\n",
      "                -0.0066308854,\n",
      "                -0.00053891126,\n",
      "                -0.0028964581,\n",
      "                -0.028928148,\n",
      "                -0.067669034,\n",
      "                -0.04170414,\n",
      "                0.010213506,\n",
      "                -0.0024228236,\n",
      "                0.03053122,\n",
      "                0.0156178,\n",
      "                0.011215426,\n",
      "                0.01420904,\n",
      "                0.0130067365,\n",
      "                0.010644635,\n",
      "                0.0052980287,\n",
      "                0.007711744,\n",
      "                0.003752644,\n",
      "                0.015678521,\n",
      "                -0.072138205,\n",
      "                -0.031648513,\n",
      "                0.01827744,\n",
      "                0.009618427,\n",
      "                0.0066005243,\n",
      "                0.0197955,\n",
      "                -0.018738931,\n",
      "                -0.024301102,\n",
      "                0.01876322,\n",
      "                0.004390229,\n",
      "                -0.014257618,\n",
      "                0.005425546,\n",
      "                0.0016607575,\n",
      "                0.024920471,\n",
      "                0.0064001405,\n",
      "                -0.032717224,\n",
      "                -0.004872972,\n",
      "                -0.022066519,\n",
      "                -0.0010808586,\n",
      "                -0.0009525826,\n",
      "                -0.009290527,\n",
      "                0.020706337,\n",
      "                0.03395596,\n",
      "                0.037380707,\n",
      "                -0.03976102,\n",
      "                0.017961685,\n",
      "                0.014682675,\n",
      "                -0.01304317,\n",
      "                -0.0037465717,\n",
      "                0.00014051542,\n",
      "                0.02109496,\n",
      "                0.041048337,\n",
      "                0.023365976,\n",
      "                0.0023408483,\n",
      "                0.0041777007,\n",
      "                -0.0014011692,\n",
      "                0.02096137,\n",
      "                0.027810857,\n",
      "                -0.0024698833,\n",
      "                0.03696779,\n",
      "                0.017172294,\n",
      "                -0.015253466,\n",
      "                0.00038843357,\n",
      "                0.0073413374,\n",
      "                0.015520643,\n",
      "                -0.004390229,\n",
      "                0.010504974,\n",
      "                -0.0076753106,\n",
      "                -0.009575921,\n",
      "                -0.026256364,\n",
      "                -0.006321201,\n",
      "                -0.07437279,\n",
      "                0.010474613,\n",
      "                -0.011792289,\n",
      "                0.002258873,\n",
      "                -0.019163987,\n",
      "                0.013103892,\n",
      "                -0.03776933,\n",
      "                -0.030215463,\n",
      "                0.0038619442,\n",
      "                0.026256364,\n",
      "                0.0021647534,\n",
      "                -0.007414204,\n",
      "                -0.024070356,\n",
      "                0.017767372,\n",
      "                -0.0017624674,\n",
      "                -0.024847602,\n",
      "                -0.015654232,\n",
      "                -0.030725531,\n",
      "                0.018131707,\n",
      "                -0.016941547,\n",
      "                0.0019613332,\n",
      "                0.017730938,\n",
      "                -0.011938022,\n",
      "                0.025794873,\n",
      "                0.012739558,\n",
      "                0.012083757,\n",
      "                -0.018836087,\n",
      "                0.0036828131,\n",
      "                -0.0063090567,\n",
      "                0.009333032,\n",
      "                0.018556764,\n",
      "                -0.0089322645,\n",
      "                0.050180987,\n",
      "                -0.055330247,\n",
      "                -0.013358926,\n",
      "                0.01003134,\n",
      "                -0.0045754323,\n",
      "                -0.043282922,\n",
      "                0.012605969,\n",
      "                -0.014658386,\n",
      "                -0.015787823,\n",
      "                0.038643733,\n",
      "                -0.040465403,\n",
      "                0.03704066,\n",
      "                0.012180912,\n",
      "                -0.009478766,\n",
      "                -0.00573523,\n",
      "                0.033275872,\n",
      "                -0.0237546,\n",
      "                -0.008282535,\n",
      "                -0.0033306233,\n",
      "                0.016346468,\n",
      "                -0.046464775,\n",
      "                0.00044251443,\n",
      "                0.019710489,\n",
      "                0.016225023,\n",
      "                0.021835772,\n",
      "                0.038303684,\n",
      "                -0.007814972,\n",
      "                0.022953065,\n",
      "                0.04454595,\n",
      "                0.02215153,\n",
      "                0.017900962,\n",
      "                0.033834517,\n",
      "                -0.016067145\n",
      "            ],\n",
      "            \"index\": 0,\n",
      "            \"object\": \"embedding\"\n",
      "        }\n",
      "    ],\n",
      "    \"model\": \"text-embedding-3-small\",\n",
      "    \"object\": \"list\",\n",
      "    \"usage\": {\n",
      "        \"prompt_tokens\": 4,\n",
      "        \"total_tokens\": 4\n",
      "    }\n",
      "}\n"
     ]
    }
   ],
   "source": [
    "print(embeddings.model_dump_json(indent=4))"
   ]
  },
  {
   "cell_type": "code",
   "execution_count": 34,
   "metadata": {},
   "outputs": [],
   "source": [
    "embeddings=client.embeddings.create(\n",
    "  model=\"text-embedding-3-small\",\n",
    "  input=[\"The food was delicious\",\"The ambience was nice\",\"The service was ordinary\"],\n",
    "  encoding_format=\"float\",\n",
    "  dimensions=10\n",
    ")"
   ]
  },
  {
   "cell_type": "code",
   "execution_count": 42,
   "metadata": {},
   "outputs": [
    {
     "name": "stdout",
     "output_type": "stream",
     "text": [
      "{\n",
      "    \"data\": [\n",
      "        {\n",
      "            \"embedding\": [\n",
      "                -0.16518073,\n",
      "                -0.18112364,\n",
      "                -0.51259506,\n",
      "                -0.3226927,\n",
      "                0.09348805,\n",
      "                -0.27022234,\n",
      "                -0.06483116,\n",
      "                0.58605355,\n",
      "                -0.07360986,\n",
      "                -0.3717323\n",
      "            ],\n",
      "            \"index\": 0,\n",
      "            \"object\": \"embedding\"\n",
      "        },\n",
      "        {\n",
      "            \"embedding\": [\n",
      "                -0.02953239,\n",
      "                -0.34364963,\n",
      "                -0.6671429,\n",
      "                -0.37768418,\n",
      "                0.08132766,\n",
      "                -0.4811095,\n",
      "                -0.12961209,\n",
      "                0.060469117,\n",
      "                -0.060303904,\n",
      "                -0.17645088\n",
      "            ],\n",
      "            \"index\": 1,\n",
      "            \"object\": \"embedding\"\n",
      "        },\n",
      "        {\n",
      "            \"embedding\": [\n",
      "                -0.27581072,\n",
      "                0.19972502,\n",
      "                -0.5207565,\n",
      "                -0.3800697,\n",
      "                -0.047060095,\n",
      "                -0.20187838,\n",
      "                -0.28711593,\n",
      "                0.5645417,\n",
      "                0.011664084,\n",
      "                0.1554015\n",
      "            ],\n",
      "            \"index\": 2,\n",
      "            \"object\": \"embedding\"\n",
      "        }\n",
      "    ],\n",
      "    \"model\": \"text-embedding-3-small\",\n",
      "    \"object\": \"list\",\n",
      "    \"usage\": {\n",
      "        \"prompt_tokens\": 13,\n",
      "        \"total_tokens\": 13\n",
      "    }\n",
      "}\n"
     ]
    }
   ],
   "source": [
    "print(embeddings.model_dump_json(indent=4))"
   ]
  },
  {
   "cell_type": "markdown",
   "metadata": {},
   "source": [
    "### Text Search"
   ]
  },
  {
   "cell_type": "code",
   "execution_count": 41,
   "metadata": {},
   "outputs": [],
   "source": [
    "from sklearn.metrics.pairwise import cosine_similarity\n"
   ]
  },
  {
   "cell_type": "code",
   "execution_count": 73,
   "metadata": {},
   "outputs": [],
   "source": [
    "embeddings_q=client.embeddings.create(\n",
    "  model=\"text-embedding-3-small\",\n",
    "  input=\"food\",\n",
    "  encoding_format=\"float\",\n",
    "  dimensions=10\n",
    ")"
   ]
  },
  {
   "cell_type": "code",
   "execution_count": 74,
   "metadata": {},
   "outputs": [],
   "source": [
    "query=embeddings_q.data[0].embedding"
   ]
  },
  {
   "cell_type": "code",
   "execution_count": 75,
   "metadata": {},
   "outputs": [
    {
     "data": {
      "text/plain": [
       "[-0.012315562,\n",
       " -0.16567738,\n",
       " -0.069231726,\n",
       " -0.10728083,\n",
       " 0.4480219,\n",
       " -0.61836094,\n",
       " 0.29532152,\n",
       " 0.4434862,\n",
       " -0.24505134,\n",
       " -0.17046502]"
      ]
     },
     "execution_count": 75,
     "metadata": {},
     "output_type": "execute_result"
    }
   ],
   "source": [
    "query"
   ]
  },
  {
   "cell_type": "code",
   "execution_count": 76,
   "metadata": {},
   "outputs": [],
   "source": [
    "d1=embeddings.data[0].embedding\n",
    "d2=embeddings.data[1].embedding\n",
    "d3=embeddings.data[2].embedding"
   ]
  },
  {
   "cell_type": "code",
   "execution_count": 77,
   "metadata": {},
   "outputs": [
    {
     "data": {
      "text/plain": [
       "array([[0.63329476]])"
      ]
     },
     "execution_count": 77,
     "metadata": {},
     "output_type": "execute_result"
    }
   ],
   "source": [
    "cosine_similarity([query],[d1])"
   ]
  },
  {
   "cell_type": "code",
   "execution_count": 78,
   "metadata": {},
   "outputs": [
    {
     "data": {
      "text/plain": [
       "array([[0.51133651]])"
      ]
     },
     "execution_count": 78,
     "metadata": {},
     "output_type": "execute_result"
    }
   ],
   "source": [
    "cosine_similarity([query],[d2])"
   ]
  },
  {
   "cell_type": "code",
   "execution_count": 79,
   "metadata": {},
   "outputs": [
    {
     "data": {
      "text/plain": [
       "array([[0.28710977]])"
      ]
     },
     "execution_count": 79,
     "metadata": {},
     "output_type": "execute_result"
    }
   ],
   "source": [
    "cosine_similarity([query],[d3])"
   ]
  },
  {
   "cell_type": "code",
   "execution_count": 80,
   "metadata": {},
   "outputs": [],
   "source": [
    "import pandas as pd\n",
    "data=pd.read_csv(\"../Assets/Data/medium.csv\")"
   ]
  },
  {
   "cell_type": "code",
   "execution_count": 81,
   "metadata": {},
   "outputs": [
    {
     "data": {
      "text/html": [
       "<div>\n",
       "<style scoped>\n",
       "    .dataframe tbody tr th:only-of-type {\n",
       "        vertical-align: middle;\n",
       "    }\n",
       "\n",
       "    .dataframe tbody tr th {\n",
       "        vertical-align: top;\n",
       "    }\n",
       "\n",
       "    .dataframe thead th {\n",
       "        text-align: right;\n",
       "    }\n",
       "</style>\n",
       "<table border=\"1\" class=\"dataframe\">\n",
       "  <thead>\n",
       "    <tr style=\"text-align: right;\">\n",
       "      <th></th>\n",
       "      <th>Title</th>\n",
       "      <th>Text</th>\n",
       "    </tr>\n",
       "  </thead>\n",
       "  <tbody>\n",
       "    <tr>\n",
       "      <th>0</th>\n",
       "      <td>A Beginner’s Guide to Word Embedding with Gens...</td>\n",
       "      <td>1. Introduction of Word2vec\\n\\nWord2vec is one...</td>\n",
       "    </tr>\n",
       "    <tr>\n",
       "      <th>1</th>\n",
       "      <td>Hands-on Graph Neural Networks with PyTorch &amp; ...</td>\n",
       "      <td>In my last article, I introduced the concept o...</td>\n",
       "    </tr>\n",
       "    <tr>\n",
       "      <th>2</th>\n",
       "      <td>How to Use ggplot2 in Python</td>\n",
       "      <td>Introduction\\n\\nThanks to its strict implement...</td>\n",
       "    </tr>\n",
       "    <tr>\n",
       "      <th>3</th>\n",
       "      <td>Databricks: How to Save Data Frames as CSV Fil...</td>\n",
       "      <td>Photo credit to Mika Baumeister from Unsplash\\...</td>\n",
       "    </tr>\n",
       "    <tr>\n",
       "      <th>4</th>\n",
       "      <td>A Step-by-Step Implementation of Gradient Desc...</td>\n",
       "      <td>A Step-by-Step Implementation of Gradient Desc...</td>\n",
       "    </tr>\n",
       "  </tbody>\n",
       "</table>\n",
       "</div>"
      ],
      "text/plain": [
       "                                               Title  \\\n",
       "0  A Beginner’s Guide to Word Embedding with Gens...   \n",
       "1  Hands-on Graph Neural Networks with PyTorch & ...   \n",
       "2                       How to Use ggplot2 in Python   \n",
       "3  Databricks: How to Save Data Frames as CSV Fil...   \n",
       "4  A Step-by-Step Implementation of Gradient Desc...   \n",
       "\n",
       "                                                Text  \n",
       "0  1. Introduction of Word2vec\\n\\nWord2vec is one...  \n",
       "1  In my last article, I introduced the concept o...  \n",
       "2  Introduction\\n\\nThanks to its strict implement...  \n",
       "3  Photo credit to Mika Baumeister from Unsplash\\...  \n",
       "4  A Step-by-Step Implementation of Gradient Desc...  "
      ]
     },
     "execution_count": 81,
     "metadata": {},
     "output_type": "execute_result"
    }
   ],
   "source": [
    "data.head()"
   ]
  },
  {
   "cell_type": "code",
   "execution_count": 83,
   "metadata": {},
   "outputs": [
    {
     "data": {
      "text/plain": [
       "(1391, 2)"
      ]
     },
     "execution_count": 83,
     "metadata": {},
     "output_type": "execute_result"
    }
   ],
   "source": [
    "data.shape"
   ]
  },
  {
   "cell_type": "code",
   "execution_count": 107,
   "metadata": {},
   "outputs": [],
   "source": [
    "trunc_data=data.iloc[0:100,:]"
   ]
  },
  {
   "cell_type": "code",
   "execution_count": 108,
   "metadata": {},
   "outputs": [
    {
     "data": {
      "text/plain": [
       "(100, 2)"
      ]
     },
     "execution_count": 108,
     "metadata": {},
     "output_type": "execute_result"
    }
   ],
   "source": [
    "trunc_data.shape"
   ]
  },
  {
   "cell_type": "code",
   "execution_count": 109,
   "metadata": {},
   "outputs": [],
   "source": [
    "def get_embedding(text, model=\"text-embedding-3-small\"):\n",
    "   text = text.replace(\"\\n\", \" \")\n",
    "   return client.embeddings.create(input = [text], model=model).data[0].embedding"
   ]
  },
  {
   "cell_type": "code",
   "execution_count": 110,
   "metadata": {},
   "outputs": [],
   "source": [
    "trunc_data['embedding'] = trunc_data.Title.apply(lambda x: get_embedding(x, model='text-embedding-3-small'))"
   ]
  },
  {
   "cell_type": "code",
   "execution_count": 111,
   "metadata": {},
   "outputs": [
    {
     "data": {
      "text/html": [
       "<div>\n",
       "<style scoped>\n",
       "    .dataframe tbody tr th:only-of-type {\n",
       "        vertical-align: middle;\n",
       "    }\n",
       "\n",
       "    .dataframe tbody tr th {\n",
       "        vertical-align: top;\n",
       "    }\n",
       "\n",
       "    .dataframe thead th {\n",
       "        text-align: right;\n",
       "    }\n",
       "</style>\n",
       "<table border=\"1\" class=\"dataframe\">\n",
       "  <thead>\n",
       "    <tr style=\"text-align: right;\">\n",
       "      <th></th>\n",
       "      <th>Title</th>\n",
       "      <th>Text</th>\n",
       "      <th>embedding</th>\n",
       "    </tr>\n",
       "  </thead>\n",
       "  <tbody>\n",
       "    <tr>\n",
       "      <th>0</th>\n",
       "      <td>A Beginner’s Guide to Word Embedding with Gens...</td>\n",
       "      <td>1. Introduction of Word2vec\\n\\nWord2vec is one...</td>\n",
       "      <td>[-0.024416513741016388, 0.019436374306678772, ...</td>\n",
       "    </tr>\n",
       "    <tr>\n",
       "      <th>1</th>\n",
       "      <td>Hands-on Graph Neural Networks with PyTorch &amp; ...</td>\n",
       "      <td>In my last article, I introduced the concept o...</td>\n",
       "      <td>[-0.011594661511480808, -0.02944859117269516, ...</td>\n",
       "    </tr>\n",
       "    <tr>\n",
       "      <th>2</th>\n",
       "      <td>How to Use ggplot2 in Python</td>\n",
       "      <td>Introduction\\n\\nThanks to its strict implement...</td>\n",
       "      <td>[-0.0054690418764948845, -0.024078190326690674...</td>\n",
       "    </tr>\n",
       "    <tr>\n",
       "      <th>3</th>\n",
       "      <td>Databricks: How to Save Data Frames as CSV Fil...</td>\n",
       "      <td>Photo credit to Mika Baumeister from Unsplash\\...</td>\n",
       "      <td>[-0.003941336181014776, -0.022551342844963074,...</td>\n",
       "    </tr>\n",
       "    <tr>\n",
       "      <th>4</th>\n",
       "      <td>A Step-by-Step Implementation of Gradient Desc...</td>\n",
       "      <td>A Step-by-Step Implementation of Gradient Desc...</td>\n",
       "      <td>[-0.0020211779046803713, -0.000974284252151846...</td>\n",
       "    </tr>\n",
       "    <tr>\n",
       "      <th>...</th>\n",
       "      <td>...</td>\n",
       "      <td>...</td>\n",
       "      <td>...</td>\n",
       "    </tr>\n",
       "    <tr>\n",
       "      <th>95</th>\n",
       "      <td>Data Scientist’s toolkit — How to gather data ...</td>\n",
       "      <td>Data Scientist’s toolkit — How to gather data ...</td>\n",
       "      <td>[-0.026935778558254242, -0.02546488121151924, ...</td>\n",
       "    </tr>\n",
       "    <tr>\n",
       "      <th>96</th>\n",
       "      <td>Deep Learning on a Budget</td>\n",
       "      <td>Introduction\\n\\nWhy?\\n\\nThere are many article...</td>\n",
       "      <td>[-0.016848241910338402, -0.045139651745557785,...</td>\n",
       "    </tr>\n",
       "    <tr>\n",
       "      <th>97</th>\n",
       "      <td>Generating Startup names with Markov Chains</td>\n",
       "      <td>Generating Startup names with Markov Chains\\n\\...</td>\n",
       "      <td>[0.013092967681586742, -0.0023525876458734274,...</td>\n",
       "    </tr>\n",
       "    <tr>\n",
       "      <th>98</th>\n",
       "      <td>A Recipe for using Open Source Machine Learnin...</td>\n",
       "      <td>A Recipe for using Open Source Machine Learnin...</td>\n",
       "      <td>[-0.017321426421403885, -0.021059678867459297,...</td>\n",
       "    </tr>\n",
       "    <tr>\n",
       "      <th>99</th>\n",
       "      <td>How to Choose Between Multiple Models</td>\n",
       "      <td>How to Choose Between Multiple Models\\n\\nIn a ...</td>\n",
       "      <td>[0.004752688109874725, -0.0009391147177666426,...</td>\n",
       "    </tr>\n",
       "  </tbody>\n",
       "</table>\n",
       "<p>100 rows × 3 columns</p>\n",
       "</div>"
      ],
      "text/plain": [
       "                                                Title  \\\n",
       "0   A Beginner’s Guide to Word Embedding with Gens...   \n",
       "1   Hands-on Graph Neural Networks with PyTorch & ...   \n",
       "2                        How to Use ggplot2 in Python   \n",
       "3   Databricks: How to Save Data Frames as CSV Fil...   \n",
       "4   A Step-by-Step Implementation of Gradient Desc...   \n",
       "..                                                ...   \n",
       "95  Data Scientist’s toolkit — How to gather data ...   \n",
       "96                          Deep Learning on a Budget   \n",
       "97        Generating Startup names with Markov Chains   \n",
       "98  A Recipe for using Open Source Machine Learnin...   \n",
       "99              How to Choose Between Multiple Models   \n",
       "\n",
       "                                                 Text  \\\n",
       "0   1. Introduction of Word2vec\\n\\nWord2vec is one...   \n",
       "1   In my last article, I introduced the concept o...   \n",
       "2   Introduction\\n\\nThanks to its strict implement...   \n",
       "3   Photo credit to Mika Baumeister from Unsplash\\...   \n",
       "4   A Step-by-Step Implementation of Gradient Desc...   \n",
       "..                                                ...   \n",
       "95  Data Scientist’s toolkit — How to gather data ...   \n",
       "96  Introduction\\n\\nWhy?\\n\\nThere are many article...   \n",
       "97  Generating Startup names with Markov Chains\\n\\...   \n",
       "98  A Recipe for using Open Source Machine Learnin...   \n",
       "99  How to Choose Between Multiple Models\\n\\nIn a ...   \n",
       "\n",
       "                                            embedding  \n",
       "0   [-0.024416513741016388, 0.019436374306678772, ...  \n",
       "1   [-0.011594661511480808, -0.02944859117269516, ...  \n",
       "2   [-0.0054690418764948845, -0.024078190326690674...  \n",
       "3   [-0.003941336181014776, -0.022551342844963074,...  \n",
       "4   [-0.0020211779046803713, -0.000974284252151846...  \n",
       "..                                                ...  \n",
       "95  [-0.026935778558254242, -0.02546488121151924, ...  \n",
       "96  [-0.016848241910338402, -0.045139651745557785,...  \n",
       "97  [0.013092967681586742, -0.0023525876458734274,...  \n",
       "98  [-0.017321426421403885, -0.021059678867459297,...  \n",
       "99  [0.004752688109874725, -0.0009391147177666426,...  \n",
       "\n",
       "[100 rows x 3 columns]"
      ]
     },
     "execution_count": 111,
     "metadata": {},
     "output_type": "execute_result"
    }
   ],
   "source": [
    "trunc_data"
   ]
  },
  {
   "cell_type": "code",
   "execution_count": 112,
   "metadata": {},
   "outputs": [],
   "source": [
    "search_string=\"Deep Learning\""
   ]
  },
  {
   "cell_type": "code",
   "execution_count": 113,
   "metadata": {},
   "outputs": [],
   "source": [
    "search_embedding=get_embedding(search_string)"
   ]
  },
  {
   "cell_type": "code",
   "execution_count": 118,
   "metadata": {},
   "outputs": [],
   "source": [
    "trunc_data['relevance'] = trunc_data.embedding.apply(lambda x: float(cosine_similarity([search_embedding],[x])))"
   ]
  },
  {
   "cell_type": "code",
   "execution_count": 119,
   "metadata": {},
   "outputs": [
    {
     "data": {
      "text/html": [
       "<div>\n",
       "<style scoped>\n",
       "    .dataframe tbody tr th:only-of-type {\n",
       "        vertical-align: middle;\n",
       "    }\n",
       "\n",
       "    .dataframe tbody tr th {\n",
       "        vertical-align: top;\n",
       "    }\n",
       "\n",
       "    .dataframe thead th {\n",
       "        text-align: right;\n",
       "    }\n",
       "</style>\n",
       "<table border=\"1\" class=\"dataframe\">\n",
       "  <thead>\n",
       "    <tr style=\"text-align: right;\">\n",
       "      <th></th>\n",
       "      <th>Title</th>\n",
       "      <th>Text</th>\n",
       "      <th>embedding</th>\n",
       "      <th>relevance</th>\n",
       "    </tr>\n",
       "  </thead>\n",
       "  <tbody>\n",
       "    <tr>\n",
       "      <th>0</th>\n",
       "      <td>A Beginner’s Guide to Word Embedding with Gens...</td>\n",
       "      <td>1. Introduction of Word2vec\\n\\nWord2vec is one...</td>\n",
       "      <td>[-0.024416513741016388, 0.019436374306678772, ...</td>\n",
       "      <td>0.300155</td>\n",
       "    </tr>\n",
       "    <tr>\n",
       "      <th>1</th>\n",
       "      <td>Hands-on Graph Neural Networks with PyTorch &amp; ...</td>\n",
       "      <td>In my last article, I introduced the concept o...</td>\n",
       "      <td>[-0.011594661511480808, -0.02944859117269516, ...</td>\n",
       "      <td>0.344536</td>\n",
       "    </tr>\n",
       "    <tr>\n",
       "      <th>2</th>\n",
       "      <td>How to Use ggplot2 in Python</td>\n",
       "      <td>Introduction\\n\\nThanks to its strict implement...</td>\n",
       "      <td>[-0.0054690418764948845, -0.024078190326690674...</td>\n",
       "      <td>0.109014</td>\n",
       "    </tr>\n",
       "    <tr>\n",
       "      <th>3</th>\n",
       "      <td>Databricks: How to Save Data Frames as CSV Fil...</td>\n",
       "      <td>Photo credit to Mika Baumeister from Unsplash\\...</td>\n",
       "      <td>[-0.003941336181014776, -0.022551342844963074,...</td>\n",
       "      <td>0.169241</td>\n",
       "    </tr>\n",
       "    <tr>\n",
       "      <th>4</th>\n",
       "      <td>A Step-by-Step Implementation of Gradient Desc...</td>\n",
       "      <td>A Step-by-Step Implementation of Gradient Desc...</td>\n",
       "      <td>[-0.0020211779046803713, -0.000974284252151846...</td>\n",
       "      <td>0.388754</td>\n",
       "    </tr>\n",
       "    <tr>\n",
       "      <th>...</th>\n",
       "      <td>...</td>\n",
       "      <td>...</td>\n",
       "      <td>...</td>\n",
       "      <td>...</td>\n",
       "    </tr>\n",
       "    <tr>\n",
       "      <th>95</th>\n",
       "      <td>Data Scientist’s toolkit — How to gather data ...</td>\n",
       "      <td>Data Scientist’s toolkit — How to gather data ...</td>\n",
       "      <td>[-0.026935778558254242, -0.02546488121151924, ...</td>\n",
       "      <td>0.313273</td>\n",
       "    </tr>\n",
       "    <tr>\n",
       "      <th>96</th>\n",
       "      <td>Deep Learning on a Budget</td>\n",
       "      <td>Introduction\\n\\nWhy?\\n\\nThere are many article...</td>\n",
       "      <td>[-0.016848241910338402, -0.045139651745557785,...</td>\n",
       "      <td>0.719206</td>\n",
       "    </tr>\n",
       "    <tr>\n",
       "      <th>97</th>\n",
       "      <td>Generating Startup names with Markov Chains</td>\n",
       "      <td>Generating Startup names with Markov Chains\\n\\...</td>\n",
       "      <td>[0.013092967681586742, -0.0023525876458734274,...</td>\n",
       "      <td>0.165855</td>\n",
       "    </tr>\n",
       "    <tr>\n",
       "      <th>98</th>\n",
       "      <td>A Recipe for using Open Source Machine Learnin...</td>\n",
       "      <td>A Recipe for using Open Source Machine Learnin...</td>\n",
       "      <td>[-0.017321426421403885, -0.021059678867459297,...</td>\n",
       "      <td>0.387291</td>\n",
       "    </tr>\n",
       "    <tr>\n",
       "      <th>99</th>\n",
       "      <td>How to Choose Between Multiple Models</td>\n",
       "      <td>How to Choose Between Multiple Models\\n\\nIn a ...</td>\n",
       "      <td>[0.004752688109874725, -0.0009391147177666426,...</td>\n",
       "      <td>0.233198</td>\n",
       "    </tr>\n",
       "  </tbody>\n",
       "</table>\n",
       "<p>100 rows × 4 columns</p>\n",
       "</div>"
      ],
      "text/plain": [
       "                                                Title  \\\n",
       "0   A Beginner’s Guide to Word Embedding with Gens...   \n",
       "1   Hands-on Graph Neural Networks with PyTorch & ...   \n",
       "2                        How to Use ggplot2 in Python   \n",
       "3   Databricks: How to Save Data Frames as CSV Fil...   \n",
       "4   A Step-by-Step Implementation of Gradient Desc...   \n",
       "..                                                ...   \n",
       "95  Data Scientist’s toolkit — How to gather data ...   \n",
       "96                          Deep Learning on a Budget   \n",
       "97        Generating Startup names with Markov Chains   \n",
       "98  A Recipe for using Open Source Machine Learnin...   \n",
       "99              How to Choose Between Multiple Models   \n",
       "\n",
       "                                                 Text  \\\n",
       "0   1. Introduction of Word2vec\\n\\nWord2vec is one...   \n",
       "1   In my last article, I introduced the concept o...   \n",
       "2   Introduction\\n\\nThanks to its strict implement...   \n",
       "3   Photo credit to Mika Baumeister from Unsplash\\...   \n",
       "4   A Step-by-Step Implementation of Gradient Desc...   \n",
       "..                                                ...   \n",
       "95  Data Scientist’s toolkit — How to gather data ...   \n",
       "96  Introduction\\n\\nWhy?\\n\\nThere are many article...   \n",
       "97  Generating Startup names with Markov Chains\\n\\...   \n",
       "98  A Recipe for using Open Source Machine Learnin...   \n",
       "99  How to Choose Between Multiple Models\\n\\nIn a ...   \n",
       "\n",
       "                                            embedding  relevance  \n",
       "0   [-0.024416513741016388, 0.019436374306678772, ...   0.300155  \n",
       "1   [-0.011594661511480808, -0.02944859117269516, ...   0.344536  \n",
       "2   [-0.0054690418764948845, -0.024078190326690674...   0.109014  \n",
       "3   [-0.003941336181014776, -0.022551342844963074,...   0.169241  \n",
       "4   [-0.0020211779046803713, -0.000974284252151846...   0.388754  \n",
       "..                                                ...        ...  \n",
       "95  [-0.026935778558254242, -0.02546488121151924, ...   0.313273  \n",
       "96  [-0.016848241910338402, -0.045139651745557785,...   0.719206  \n",
       "97  [0.013092967681586742, -0.0023525876458734274,...   0.165855  \n",
       "98  [-0.017321426421403885, -0.021059678867459297,...   0.387291  \n",
       "99  [0.004752688109874725, -0.0009391147177666426,...   0.233198  \n",
       "\n",
       "[100 rows x 4 columns]"
      ]
     },
     "execution_count": 119,
     "metadata": {},
     "output_type": "execute_result"
    }
   ],
   "source": [
    "trunc_data"
   ]
  },
  {
   "cell_type": "code",
   "execution_count": 131,
   "metadata": {},
   "outputs": [
    {
     "data": {
      "text/html": [
       "<div>\n",
       "<style scoped>\n",
       "    .dataframe tbody tr th:only-of-type {\n",
       "        vertical-align: middle;\n",
       "    }\n",
       "\n",
       "    .dataframe tbody tr th {\n",
       "        vertical-align: top;\n",
       "    }\n",
       "\n",
       "    .dataframe thead th {\n",
       "        text-align: right;\n",
       "    }\n",
       "</style>\n",
       "<table border=\"1\" class=\"dataframe\">\n",
       "  <thead>\n",
       "    <tr style=\"text-align: right;\">\n",
       "      <th></th>\n",
       "      <th>Title</th>\n",
       "      <th>Text</th>\n",
       "      <th>embedding</th>\n",
       "      <th>relevance</th>\n",
       "    </tr>\n",
       "  </thead>\n",
       "  <tbody>\n",
       "    <tr>\n",
       "      <th>96</th>\n",
       "      <td>Deep Learning on a Budget</td>\n",
       "      <td>Introduction\\n\\nWhy?\\n\\nThere are many article...</td>\n",
       "      <td>[-0.016848241910338402, -0.045139651745557785,...</td>\n",
       "      <td>0.719206</td>\n",
       "    </tr>\n",
       "    <tr>\n",
       "      <th>79</th>\n",
       "      <td>Applied AI: Going From Concept to ML Components</td>\n",
       "      <td>Opening your mind to different ways of applyin...</td>\n",
       "      <td>[-0.016732994467020035, -0.026421837508678436,...</td>\n",
       "      <td>0.482907</td>\n",
       "    </tr>\n",
       "    <tr>\n",
       "      <th>73</th>\n",
       "      <td>Transfer Learning Intuition for Text Classific...</td>\n",
       "      <td>Transfer Learning Intuition for Text Classific...</td>\n",
       "      <td>[-0.022648293524980545, 0.0017097401432693005,...</td>\n",
       "      <td>0.478084</td>\n",
       "    </tr>\n",
       "    <tr>\n",
       "      <th>54</th>\n",
       "      <td>Reinforcement Learning Introduction</td>\n",
       "      <td>Reinforcement Learning Introduction\\n\\nAn intr...</td>\n",
       "      <td>[0.009179973974823952, -0.05973218381404877, 0...</td>\n",
       "      <td>0.470448</td>\n",
       "    </tr>\n",
       "    <tr>\n",
       "      <th>80</th>\n",
       "      <td>Wild Wide AI: responsible data science</td>\n",
       "      <td>Wild Wide AI: responsible data science\\n\\nData...</td>\n",
       "      <td>[0.041022028774023056, -0.00013012583076488227...</td>\n",
       "      <td>0.445177</td>\n",
       "    </tr>\n",
       "    <tr>\n",
       "      <th>26</th>\n",
       "      <td>Why Machine Learning Models Degrade In Production</td>\n",
       "      <td>After several failed ML projects due to unexpe...</td>\n",
       "      <td>[0.012906364165246487, 0.030608268454670906, 0...</td>\n",
       "      <td>0.437601</td>\n",
       "    </tr>\n",
       "    <tr>\n",
       "      <th>29</th>\n",
       "      <td>An Introduction to Recurrent Neural Networks f...</td>\n",
       "      <td>An Introduction to Recurrent Neural Networks f...</td>\n",
       "      <td>[-0.017917338758707047, -0.02631806582212448, ...</td>\n",
       "      <td>0.424443</td>\n",
       "    </tr>\n",
       "    <tr>\n",
       "      <th>9</th>\n",
       "      <td>What if AI model understanding were easy?</td>\n",
       "      <td>Irreverent Demystifiers\\n\\nWhat if AI model un...</td>\n",
       "      <td>[-0.011677316389977932, -0.0018296980997547507...</td>\n",
       "      <td>0.422850</td>\n",
       "    </tr>\n",
       "    <tr>\n",
       "      <th>68</th>\n",
       "      <td>Getting Started with Google BigQuery’s Machine...</td>\n",
       "      <td>While still in Beta, BigQuery ML has been avai...</td>\n",
       "      <td>[-0.03437798097729683, 0.012720847502350807, 0...</td>\n",
       "      <td>0.416430</td>\n",
       "    </tr>\n",
       "    <tr>\n",
       "      <th>69</th>\n",
       "      <td>Review: DeepPose — Cascade of CNN (Human Pose ...</td>\n",
       "      <td>Review: DeepPose — Cascade of CNN (Human Pose ...</td>\n",
       "      <td>[0.017710482701659203, -0.03976304084062576, 0...</td>\n",
       "      <td>0.412233</td>\n",
       "    </tr>\n",
       "  </tbody>\n",
       "</table>\n",
       "</div>"
      ],
      "text/plain": [
       "                                                Title  \\\n",
       "96                          Deep Learning on a Budget   \n",
       "79    Applied AI: Going From Concept to ML Components   \n",
       "73  Transfer Learning Intuition for Text Classific...   \n",
       "54                Reinforcement Learning Introduction   \n",
       "80             Wild Wide AI: responsible data science   \n",
       "26  Why Machine Learning Models Degrade In Production   \n",
       "29  An Introduction to Recurrent Neural Networks f...   \n",
       "9           What if AI model understanding were easy?   \n",
       "68  Getting Started with Google BigQuery’s Machine...   \n",
       "69  Review: DeepPose — Cascade of CNN (Human Pose ...   \n",
       "\n",
       "                                                 Text  \\\n",
       "96  Introduction\\n\\nWhy?\\n\\nThere are many article...   \n",
       "79  Opening your mind to different ways of applyin...   \n",
       "73  Transfer Learning Intuition for Text Classific...   \n",
       "54  Reinforcement Learning Introduction\\n\\nAn intr...   \n",
       "80  Wild Wide AI: responsible data science\\n\\nData...   \n",
       "26  After several failed ML projects due to unexpe...   \n",
       "29  An Introduction to Recurrent Neural Networks f...   \n",
       "9   Irreverent Demystifiers\\n\\nWhat if AI model un...   \n",
       "68  While still in Beta, BigQuery ML has been avai...   \n",
       "69  Review: DeepPose — Cascade of CNN (Human Pose ...   \n",
       "\n",
       "                                            embedding  relevance  \n",
       "96  [-0.016848241910338402, -0.045139651745557785,...   0.719206  \n",
       "79  [-0.016732994467020035, -0.026421837508678436,...   0.482907  \n",
       "73  [-0.022648293524980545, 0.0017097401432693005,...   0.478084  \n",
       "54  [0.009179973974823952, -0.05973218381404877, 0...   0.470448  \n",
       "80  [0.041022028774023056, -0.00013012583076488227...   0.445177  \n",
       "26  [0.012906364165246487, 0.030608268454670906, 0...   0.437601  \n",
       "29  [-0.017917338758707047, -0.02631806582212448, ...   0.424443  \n",
       "9   [-0.011677316389977932, -0.0018296980997547507...   0.422850  \n",
       "68  [-0.03437798097729683, 0.012720847502350807, 0...   0.416430  \n",
       "69  [0.017710482701659203, -0.03976304084062576, 0...   0.412233  "
      ]
     },
     "execution_count": 131,
     "metadata": {},
     "output_type": "execute_result"
    }
   ],
   "source": [
    "trunc_data.sort_values(by=\"relevance\",ascending=False).iloc[0:10,:]"
   ]
  },
  {
   "cell_type": "markdown",
   "metadata": {},
   "source": [
    "### Clustering"
   ]
  },
  {
   "cell_type": "code",
   "execution_count": 132,
   "metadata": {},
   "outputs": [],
   "source": [
    "import numpy as np\n",
    "from sklearn.cluster import KMeans\n",
    "\n",
    "matrix = np.vstack(trunc_data.embedding.values)\n",
    "n_clusters = 4\n",
    "\n",
    "kmeans = KMeans(n_clusters = n_clusters, init='k-means++', random_state=42)\n",
    "kmeans.fit(matrix)\n",
    "trunc_data['Cluster'] = kmeans.labels_"
   ]
  },
  {
   "cell_type": "code",
   "execution_count": 133,
   "metadata": {},
   "outputs": [
    {
     "data": {
      "text/html": [
       "<div>\n",
       "<style scoped>\n",
       "    .dataframe tbody tr th:only-of-type {\n",
       "        vertical-align: middle;\n",
       "    }\n",
       "\n",
       "    .dataframe tbody tr th {\n",
       "        vertical-align: top;\n",
       "    }\n",
       "\n",
       "    .dataframe thead th {\n",
       "        text-align: right;\n",
       "    }\n",
       "</style>\n",
       "<table border=\"1\" class=\"dataframe\">\n",
       "  <thead>\n",
       "    <tr style=\"text-align: right;\">\n",
       "      <th></th>\n",
       "      <th>Title</th>\n",
       "      <th>Text</th>\n",
       "      <th>embedding</th>\n",
       "      <th>relevance</th>\n",
       "      <th>Cluster</th>\n",
       "    </tr>\n",
       "  </thead>\n",
       "  <tbody>\n",
       "    <tr>\n",
       "      <th>0</th>\n",
       "      <td>A Beginner’s Guide to Word Embedding with Gens...</td>\n",
       "      <td>1. Introduction of Word2vec\\n\\nWord2vec is one...</td>\n",
       "      <td>[-0.024416513741016388, 0.019436374306678772, ...</td>\n",
       "      <td>0.300155</td>\n",
       "      <td>3</td>\n",
       "    </tr>\n",
       "    <tr>\n",
       "      <th>1</th>\n",
       "      <td>Hands-on Graph Neural Networks with PyTorch &amp; ...</td>\n",
       "      <td>In my last article, I introduced the concept o...</td>\n",
       "      <td>[-0.011594661511480808, -0.02944859117269516, ...</td>\n",
       "      <td>0.344536</td>\n",
       "      <td>3</td>\n",
       "    </tr>\n",
       "    <tr>\n",
       "      <th>2</th>\n",
       "      <td>How to Use ggplot2 in Python</td>\n",
       "      <td>Introduction\\n\\nThanks to its strict implement...</td>\n",
       "      <td>[-0.0054690418764948845, -0.024078190326690674...</td>\n",
       "      <td>0.109014</td>\n",
       "      <td>1</td>\n",
       "    </tr>\n",
       "    <tr>\n",
       "      <th>3</th>\n",
       "      <td>Databricks: How to Save Data Frames as CSV Fil...</td>\n",
       "      <td>Photo credit to Mika Baumeister from Unsplash\\...</td>\n",
       "      <td>[-0.003941336181014776, -0.022551342844963074,...</td>\n",
       "      <td>0.169241</td>\n",
       "      <td>2</td>\n",
       "    </tr>\n",
       "    <tr>\n",
       "      <th>4</th>\n",
       "      <td>A Step-by-Step Implementation of Gradient Desc...</td>\n",
       "      <td>A Step-by-Step Implementation of Gradient Desc...</td>\n",
       "      <td>[-0.0020211779046803713, -0.000974284252151846...</td>\n",
       "      <td>0.388754</td>\n",
       "      <td>3</td>\n",
       "    </tr>\n",
       "    <tr>\n",
       "      <th>...</th>\n",
       "      <td>...</td>\n",
       "      <td>...</td>\n",
       "      <td>...</td>\n",
       "      <td>...</td>\n",
       "      <td>...</td>\n",
       "    </tr>\n",
       "    <tr>\n",
       "      <th>95</th>\n",
       "      <td>Data Scientist’s toolkit — How to gather data ...</td>\n",
       "      <td>Data Scientist’s toolkit — How to gather data ...</td>\n",
       "      <td>[-0.026935778558254242, -0.02546488121151924, ...</td>\n",
       "      <td>0.313273</td>\n",
       "      <td>2</td>\n",
       "    </tr>\n",
       "    <tr>\n",
       "      <th>96</th>\n",
       "      <td>Deep Learning on a Budget</td>\n",
       "      <td>Introduction\\n\\nWhy?\\n\\nThere are many article...</td>\n",
       "      <td>[-0.016848241910338402, -0.045139651745557785,...</td>\n",
       "      <td>0.719206</td>\n",
       "      <td>3</td>\n",
       "    </tr>\n",
       "    <tr>\n",
       "      <th>97</th>\n",
       "      <td>Generating Startup names with Markov Chains</td>\n",
       "      <td>Generating Startup names with Markov Chains\\n\\...</td>\n",
       "      <td>[0.013092967681586742, -0.0023525876458734274,...</td>\n",
       "      <td>0.165855</td>\n",
       "      <td>3</td>\n",
       "    </tr>\n",
       "    <tr>\n",
       "      <th>98</th>\n",
       "      <td>A Recipe for using Open Source Machine Learnin...</td>\n",
       "      <td>A Recipe for using Open Source Machine Learnin...</td>\n",
       "      <td>[-0.017321426421403885, -0.021059678867459297,...</td>\n",
       "      <td>0.387291</td>\n",
       "      <td>0</td>\n",
       "    </tr>\n",
       "    <tr>\n",
       "      <th>99</th>\n",
       "      <td>How to Choose Between Multiple Models</td>\n",
       "      <td>How to Choose Between Multiple Models\\n\\nIn a ...</td>\n",
       "      <td>[0.004752688109874725, -0.0009391147177666426,...</td>\n",
       "      <td>0.233198</td>\n",
       "      <td>0</td>\n",
       "    </tr>\n",
       "  </tbody>\n",
       "</table>\n",
       "<p>100 rows × 5 columns</p>\n",
       "</div>"
      ],
      "text/plain": [
       "                                                Title  \\\n",
       "0   A Beginner’s Guide to Word Embedding with Gens...   \n",
       "1   Hands-on Graph Neural Networks with PyTorch & ...   \n",
       "2                        How to Use ggplot2 in Python   \n",
       "3   Databricks: How to Save Data Frames as CSV Fil...   \n",
       "4   A Step-by-Step Implementation of Gradient Desc...   \n",
       "..                                                ...   \n",
       "95  Data Scientist’s toolkit — How to gather data ...   \n",
       "96                          Deep Learning on a Budget   \n",
       "97        Generating Startup names with Markov Chains   \n",
       "98  A Recipe for using Open Source Machine Learnin...   \n",
       "99              How to Choose Between Multiple Models   \n",
       "\n",
       "                                                 Text  \\\n",
       "0   1. Introduction of Word2vec\\n\\nWord2vec is one...   \n",
       "1   In my last article, I introduced the concept o...   \n",
       "2   Introduction\\n\\nThanks to its strict implement...   \n",
       "3   Photo credit to Mika Baumeister from Unsplash\\...   \n",
       "4   A Step-by-Step Implementation of Gradient Desc...   \n",
       "..                                                ...   \n",
       "95  Data Scientist’s toolkit — How to gather data ...   \n",
       "96  Introduction\\n\\nWhy?\\n\\nThere are many article...   \n",
       "97  Generating Startup names with Markov Chains\\n\\...   \n",
       "98  A Recipe for using Open Source Machine Learnin...   \n",
       "99  How to Choose Between Multiple Models\\n\\nIn a ...   \n",
       "\n",
       "                                            embedding  relevance  Cluster  \n",
       "0   [-0.024416513741016388, 0.019436374306678772, ...   0.300155        3  \n",
       "1   [-0.011594661511480808, -0.02944859117269516, ...   0.344536        3  \n",
       "2   [-0.0054690418764948845, -0.024078190326690674...   0.109014        1  \n",
       "3   [-0.003941336181014776, -0.022551342844963074,...   0.169241        2  \n",
       "4   [-0.0020211779046803713, -0.000974284252151846...   0.388754        3  \n",
       "..                                                ...        ...      ...  \n",
       "95  [-0.026935778558254242, -0.02546488121151924, ...   0.313273        2  \n",
       "96  [-0.016848241910338402, -0.045139651745557785,...   0.719206        3  \n",
       "97  [0.013092967681586742, -0.0023525876458734274,...   0.165855        3  \n",
       "98  [-0.017321426421403885, -0.021059678867459297,...   0.387291        0  \n",
       "99  [0.004752688109874725, -0.0009391147177666426,...   0.233198        0  \n",
       "\n",
       "[100 rows x 5 columns]"
      ]
     },
     "execution_count": 133,
     "metadata": {},
     "output_type": "execute_result"
    }
   ],
   "source": [
    "trunc_data"
   ]
  },
  {
   "cell_type": "code",
   "execution_count": 167,
   "metadata": {},
   "outputs": [],
   "source": [
    "trunc_data[\"Prompt\"] = trunc_data[\"Title\"] + \" belongs to Cluster number \" + trunc_data[\"Cluster\"].astype(str)"
   ]
  },
  {
   "cell_type": "code",
   "execution_count": null,
   "metadata": {},
   "outputs": [],
   "source": [
    "info=''\n",
    "for i in trunc_data[\"Prompt\"]:\n",
    "    info+=i+'\\n'\n"
   ]
  },
  {
   "cell_type": "code",
   "execution_count": 175,
   "metadata": {},
   "outputs": [
    {
     "name": "stdout",
     "output_type": "stream",
     "text": [
      "A Beginner’s Guide to Word Embedding with Gensim Word2Vec Model belongs to Cluster number 3\n",
      "Hands-on Graph Neural Networks with PyTorch & PyTorch Geometric belongs to Cluster number 3\n",
      "How to Use ggplot2 in Python belongs to Cluster number 1\n",
      "Databricks: How to Save Data Frames as CSV Files on Your Local Computer belongs to Cluster number 2\n",
      "A Step-by-Step Implementation of Gradient Descent and Backpropagation belongs to Cluster number 3\n",
      "An Easy Introduction to SQL for Data Scientists belongs to Cluster number 2\n",
      "Hypothesis testing visualized belongs to Cluster number 2\n",
      "Introduction to Latent Matrix Factorization Recommender Systems belongs to Cluster number 3\n",
      "Which 2020 Candidate is the Best at Twitter? belongs to Cluster number 0\n",
      "What if AI model understanding were easy? belongs to Cluster number 3\n",
      "What I Learned from (Two-time) Kaggle Grandmaster Abhishek Thakur belongs to Cluster number 2\n",
      "Making a DotA2 Bot Using ML belongs to Cluster number 3\n",
      "Building A ‘Serverless’ Chrome Extension belongs to Cluster number 2\n",
      "How to Teach Code belongs to Cluster number 3\n",
      "Reinventing Personalization For Customer Experience belongs to Cluster number 3\n",
      "How to Automate Hyperparameter Optimization belongs to Cluster number 0\n",
      "Ideas: Design Methodologies for Data Sprints belongs to Cluster number 2\n",
      "Wine Embeddings and a Wine Recommender belongs to Cluster number 0\n",
      "20 must-know Data Science Interview Questions belongs to Cluster number 2\n",
      "Faster Training for Efficient CNNs belongs to Cluster number 0\n",
      "Buyers beware, fake product reviews are plaguing the internet. How Machine Learning can help to spot them. belongs to Cluster number 0\n",
      "Objects of Desire: A conversation with Edgar Yau belongs to Cluster number 3\n",
      "How data management practice enables the successful implementation of a single customer view? belongs to Cluster number 2\n",
      "Use Cython to get more than 30X speedup on your Python code belongs to Cluster number 1\n",
      "Learning SQL 201: Optimizing Queries, Regardless of Platform belongs to Cluster number 2\n",
      "Predicting vs. Explaining belongs to Cluster number 0\n",
      "Why Machine Learning Models Degrade In Production belongs to Cluster number 0\n",
      "Implementation of RNN, LSTM, and GRU belongs to Cluster number 3\n",
      "Autoencoders vs PCA: when to use ? belongs to Cluster number 3\n",
      "An Introduction to Recurrent Neural Networks for Beginners belongs to Cluster number 3\n",
      "A ConvNet that works well with 20 samples: Wavelet Scattering belongs to Cluster number 0\n",
      "Time Series Clustering and Dimensionality Reduction belongs to Cluster number 2\n",
      "The Little Robot that Lived at the Library belongs to Cluster number 3\n",
      "Speeding up data wrangling with dtplyr belongs to Cluster number 2\n",
      "Multi-Class Imbalance belongs to Cluster number 0\n",
      "Dependency Parser or how to find syntactic neighbours of a word belongs to Cluster number 0\n",
      "A gentle introduction to Recommendation Systems belongs to Cluster number 3\n",
      "Sentiment Analysis: a practical benchmark belongs to Cluster number 0\n",
      "The Complete Guide to Decision Trees belongs to Cluster number 2\n",
      "Lightweight Visualization of Keras Models belongs to Cluster number 0\n",
      "SQL Subqueries belongs to Cluster number 2\n",
      "Street Lanes Finder - Detecting Street Lanes for Self-Driving Cars 🚗 belongs to Cluster number 3\n",
      "Relative vs Absolute: How to Do Compositional Data Analyses. Part — 2 belongs to Cluster number 0\n",
      "Linear Regression in Python belongs to Cluster number 1\n",
      "Predicting Lyme Disease, the Fastest Growing Infectious Disease in the U.S. belongs to Cluster number 0\n",
      "Millennials’ Favorite Fruit: Forecasting Avocado Prices with ARIMA Models belongs to Cluster number 0\n",
      "How does Facebook define Terrorism in Relation to Artificial Intelligence? belongs to Cluster number 3\n",
      "Bootstrap sampling belongs to Cluster number 2\n",
      "Predict Employee Retention belongs to Cluster number 0\n",
      "Regularization for Machine Learning Models belongs to Cluster number 0\n",
      "I Made a Dynamic Hurricane Map with Excel! belongs to Cluster number 2\n",
      "Trees in data science belongs to Cluster number 2\n",
      "Using SQL to Improve Missing Values belongs to Cluster number 2\n",
      "Predicting Unknown Unknowns belongs to Cluster number 0\n",
      "Reinforcement Learning Introduction belongs to Cluster number 3\n",
      "What if Your Colleague is a Robot belongs to Cluster number 3\n",
      "Machine Learning for Content Moderation — Challenges belongs to Cluster number 0\n",
      "Linear Regression belongs to Cluster number 0\n",
      "Bist-Parser : an end-to-end implementation of a Dependency Parser belongs to Cluster number 0\n",
      "In the New Era of Knowledge, Connection Beats Collection Every Time belongs to Cluster number 3\n",
      "Where to Coffee Like an Istanbul Local belongs to Cluster number 2\n",
      "Domo Arigato, Misses Roboto belongs to Cluster number 3\n",
      "Identifying the Sources of Winter Air Pollution in Bangkok Part II belongs to Cluster number 0\n",
      "Cleaning, Analyzing, and Visualizing Survey Data in Python belongs to Cluster number 2\n",
      "The problem with data science job postings belongs to Cluster number 2\n",
      "Step-by-Step Guide to Creating R and Python Libraries (in JupyterLab) belongs to Cluster number 1\n",
      "Predictive Maintenance: detect Faults from Sensors with CNN belongs to Cluster number 0\n",
      "Handling Discriminatory Biases in Data for Machine Learning belongs to Cluster number 0\n",
      "Getting Started with Google BigQuery’s Machine Learning — Titanic Dataset belongs to Cluster number 2\n",
      "Review: DeepPose — Cascade of CNN (Human Pose Estimation) belongs to Cluster number 0\n",
      "Microsoft Introduction to AI — Part 1 belongs to Cluster number 3\n",
      "What libraries can load image in Python and what are their difference? belongs to Cluster number 1\n",
      "Repetition in Songs: A Python Tutorial belongs to Cluster number 1\n",
      "Transfer Learning Intuition for Text Classification belongs to Cluster number 3\n",
      "Trust and interpretability in machine learning belongs to Cluster number 0\n",
      "Interpretable Convolutional Neural Network belongs to Cluster number 3\n",
      "An Executive’s Guide to Implementing AI and Machine Learning belongs to Cluster number 3\n",
      "We are All Baby Shark (in Data Tracking) belongs to Cluster number 2\n",
      "How a hackathon can help founders find their purpose belongs to Cluster number 3\n",
      "Applied AI: Going From Concept to ML Components belongs to Cluster number 3\n",
      "Wild Wide AI: responsible data science belongs to Cluster number 3\n",
      "Reinforcement Learning : Markov-Decision Process (Part 1) belongs to Cluster number 3\n",
      "What Is Neuralink: A Look At What It Is, What It Wants to Be, and What It Could Become belongs to Cluster number 3\n",
      "Knowledge Graph: The Perfect Complement to Machine Learning belongs to Cluster number 3\n",
      "The Hundred-Page Machine Learning Book Book Review belongs to Cluster number 3\n",
      "How to tune hyperparameters of tSNE belongs to Cluster number 0\n",
      "The Path to Data Science: MOOC Reviews belongs to Cluster number 2\n",
      "Is web crawling legal? belongs to Cluster number 3\n",
      "Neural Style Transfer and Visualization of Convolutional Networks belongs to Cluster number 3\n",
      "The Easiest Python Numpy Tutorial Ever belongs to Cluster number 1\n",
      "Introduction: Fast R-CNN (Object Detection) belongs to Cluster number 3\n",
      "How to land an internship in Machine Learning belongs to Cluster number 3\n",
      "Starbucks: Analyze-a-Coffee belongs to Cluster number 2\n",
      "The proper way of handling mixed-type data. State-of-the-art distance metrics. belongs to Cluster number 0\n",
      "Understanding the types of data in a business/organization belongs to Cluster number 2\n",
      "Data Scientist’s toolkit — How to gather data from different sources belongs to Cluster number 2\n",
      "Deep Learning on a Budget belongs to Cluster number 3\n",
      "Generating Startup names with Markov Chains belongs to Cluster number 3\n",
      "A Recipe for using Open Source Machine Learning models belongs to Cluster number 0\n",
      "How to Choose Between Multiple Models belongs to Cluster number 0\n",
      "\n"
     ]
    }
   ],
   "source": [
    "print(info)"
   ]
  },
  {
   "cell_type": "code",
   "execution_count": 176,
   "metadata": {},
   "outputs": [],
   "source": [
    "prompt=\"\"\"Below is information of blog titles grouped into clusters. There are four clusters. Come up with Names for these four clusters basis the titles present in them\\n\\n\"\"\"+info"
   ]
  },
  {
   "cell_type": "code",
   "execution_count": 180,
   "metadata": {},
   "outputs": [],
   "source": [
    "response = client.chat.completions.create(\n",
    "  model=\"gpt-3.5-turbo\",\n",
    "  messages=[\n",
    "    {\"role\": \"user\", \"content\": prompt}\n",
    "  ]\n",
    ")"
   ]
  },
  {
   "cell_type": "code",
   "execution_count": 181,
   "metadata": {},
   "outputs": [
    {
     "name": "stdout",
     "output_type": "stream",
     "text": [
      "Cluster Names: \n",
      "1. Python Data Visualization\n",
      "2. Data Management and Analysis\n",
      "3. Machine Learning Implementation\n",
      "4. Artificial Intelligence Ethical Considerations\n"
     ]
    }
   ],
   "source": [
    "print(response.choices[0].message.content)"
   ]
  },
  {
   "cell_type": "markdown",
   "metadata": {},
   "source": [
    "## \n",
    "---"
   ]
  },
  {
   "cell_type": "markdown",
   "metadata": {},
   "source": [
    "## RAG"
   ]
  },
  {
   "cell_type": "markdown",
   "metadata": {},
   "source": [
    "### Introduction"
   ]
  },
  {
   "cell_type": "markdown",
   "metadata": {},
   "source": [
    "<span style=\"font-size: 20px; color: orange\">>><b>Users look at LLMs for knowledge and wisdom, yet LLMs are sophisticated predictors of what word comes next</b></span>\n",
    "\n",
    "<span style=\"font-size: 16px; color: blue\"><b>Hallucinations and Restricted \"Parameteric\" Memory are the biggest drawbacks of LLMs</b></span>\n",
    "\n",
    "- Hallucinations - Very confidently, provide incorrect information.\n",
    "- Missing Knowledge - Not having information (information available only that is available the training data)\n",
    "\n",
    "\n",
    "\n",
    "\n"
   ]
  },
  {
   "cell_type": "code",
   "execution_count": 220,
   "metadata": {},
   "outputs": [],
   "source": [
    "prompt=\"What is amica developed by Portable?\""
   ]
  },
  {
   "cell_type": "code",
   "execution_count": 221,
   "metadata": {},
   "outputs": [],
   "source": [
    "response = client.chat.completions.create(\n",
    "  model=\"gpt-3.5-turbo\",\n",
    "  messages=[\n",
    "    {\"role\": \"user\", \"content\": prompt}\n",
    "  ]\n",
    ")"
   ]
  },
  {
   "cell_type": "code",
   "execution_count": 222,
   "metadata": {},
   "outputs": [
    {
     "name": "stdout",
     "output_type": "stream",
     "text": [
      "('Amica is a software application developed by Portable, a creative digital '\n",
      " 'agency based in the UK. Amica is designed to help organizations track and '\n",
      " 'manage their relationships with donors, volunteers, and other stakeholders '\n",
      " 'in order to improve engagement and communication with their supporters.')\n"
     ]
    }
   ],
   "source": [
    "pprint(response.choices[0].message.content)"
   ]
  },
  {
   "cell_type": "markdown",
   "metadata": {},
   "source": [
    "<span style=\"font-size: 14px; color: blue\"><b>Retrieval Augmented Generation or RAG seems to solve these problems</b></span>\n",
    "\n",
    "\n",
    "<img src=\"../Assets/Images/RAG.png\" width=800>"
   ]
  },
  {
   "cell_type": "markdown",
   "metadata": {},
   "source": [
    "### Retrieval"
   ]
  },
  {
   "cell_type": "code",
   "execution_count": 185,
   "metadata": {},
   "outputs": [],
   "source": [
    "from bs4 import BeautifulSoup\n",
    "import requests\n",
    "\n",
    "def extract_page(link): #### Function to extract text from weblink ####\n",
    "    address=link #### Store weblink in address variable ####\n",
    "    response=requests.get(address) #### Get response from weblink using requests ####\n",
    "    soup = BeautifulSoup(response.content, 'html.parser') #### Parse response using BeautifulSoup ####\n",
    "    text=soup.get_text() #### Extract text from parsed response ####\n",
    "    lines = filter(lambda x: x.strip(), text.splitlines()) #### Filter out empty lines ####\n",
    "    website_text = \"\\n\".join(lines) #### Join lines to form text ####\n",
    "    return website_text"
   ]
  },
  {
   "cell_type": "code",
   "execution_count": 223,
   "metadata": {},
   "outputs": [],
   "source": [
    "text=extract_page(\"https://portable.com.au/work/amica\")"
   ]
  },
  {
   "cell_type": "markdown",
   "metadata": {},
   "source": [
    "### Augmentation"
   ]
  },
  {
   "cell_type": "code",
   "execution_count": 227,
   "metadata": {},
   "outputs": [],
   "source": [
    "augmented_prompt=f\"You have been provided a context about below. Based only on the context answer the following question \\n\\n context : {text}\\n\\n question : {prompt}\""
   ]
  },
  {
   "cell_type": "markdown",
   "metadata": {},
   "source": [
    "### Generation"
   ]
  },
  {
   "cell_type": "code",
   "execution_count": 225,
   "metadata": {},
   "outputs": [],
   "source": [
    "response = client.chat.completions.create(\n",
    "  model=\"gpt-3.5-turbo\",\n",
    "  messages=[\n",
    "    {\"role\": \"user\", \"content\": augmented_prompt}\n",
    "  ]\n",
    ")"
   ]
  },
  {
   "cell_type": "code",
   "execution_count": 226,
   "metadata": {},
   "outputs": [
    {
     "name": "stdout",
     "output_type": "stream",
     "text": [
      "('amica is a digital solution developed by Portable for separating couples. It '\n",
      " 'is an online dispute resolution tool that helps guide former partners '\n",
      " 'towards an amicable resolution of family law issues, including property '\n",
      " 'settlement and parenting arrangements. The tool also uses a machine learning '\n",
      " \"algorithm to provide a suggested division of a former couple's total assets.\")\n"
     ]
    }
   ],
   "source": [
    "pprint(response.choices[0].message.content)"
   ]
  },
  {
   "cell_type": "markdown",
   "metadata": {},
   "source": [
    "---"
   ]
  },
  {
   "cell_type": "code",
   "execution_count": 228,
   "metadata": {},
   "outputs": [
    {
     "data": {
      "text/plain": [
       "2083"
      ]
     },
     "execution_count": 228,
     "metadata": {},
     "output_type": "execute_result"
    }
   ],
   "source": [
    "encoding_name=\"cl100k_base\"\n",
    "encoding = tiktoken.get_encoding(encoding_name)\n",
    "len(encoding.encode(text))"
   ]
  },
  {
   "cell_type": "code",
   "execution_count": 230,
   "metadata": {},
   "outputs": [
    {
     "name": "stdout",
     "output_type": "stream",
     "text": [
      "Collecting pypdf2\n",
      "  Downloading pypdf2-3.0.1-py3-none-any.whl.metadata (6.8 kB)\n",
      "Downloading pypdf2-3.0.1-py3-none-any.whl (232 kB)\n",
      "\u001b[2K   \u001b[90m━━━━━━━━━━━━━━━━━━━━━━━━━━━━━━━━━━━━━━━━\u001b[0m \u001b[32m232.6/232.6 kB\u001b[0m \u001b[31m2.8 MB/s\u001b[0m eta \u001b[36m0:00:00\u001b[0ma \u001b[36m0:00:01\u001b[0m\n",
      "\u001b[?25hInstalling collected packages: pypdf2\n",
      "Successfully installed pypdf2-3.0.1\n",
      "Note: you may need to restart the kernel to use updated packages.\n"
     ]
    }
   ],
   "source": [
    "%pip install pypdf2"
   ]
  },
  {
   "cell_type": "code",
   "execution_count": 231,
   "metadata": {},
   "outputs": [],
   "source": [
    "import PyPDF2\n",
    "\n",
    "reader = PyPDF2.PdfReader(\"../Assets/Data/InnovatorsDilemma.pdf\")\n",
    "pages = reader.pages\n",
    "# get all pages data\n",
    "text = \"\".join([page.extract_text() for page in pages])"
   ]
  },
  {
   "cell_type": "code",
   "execution_count": 232,
   "metadata": {},
   "outputs": [
    {
     "data": {
      "text/plain": [
       "117932"
      ]
     },
     "execution_count": 232,
     "metadata": {},
     "output_type": "execute_result"
    }
   ],
   "source": [
    "len(encoding.encode(text))"
   ]
  },
  {
   "cell_type": "markdown",
   "metadata": {},
   "source": [
    "### RAG At Scale"
   ]
  },
  {
   "cell_type": "code",
   "execution_count": 233,
   "metadata": {},
   "outputs": [],
   "source": [
    "from langchain.document_loaders import TextLoader\n",
    "from langchain.text_splitter import RecursiveCharacterTextSplitter\n",
    "from langchain.embeddings.openai import OpenAIEmbeddings\n",
    "from langchain.vectorstores import FAISS\n",
    "from sklearn.model_selection import train_test_split"
   ]
  },
  {
   "cell_type": "code",
   "execution_count": 238,
   "metadata": {},
   "outputs": [],
   "source": [
    "def split_text_and_create_embeddings(text): #### Function to create embeddings from text ####\n",
    "    with open('../Assets/Data/temp.txt','w') as f: #### Write text to a temporary file ####\n",
    "         f.write(text) #### Write text to a temporary file ####\n",
    "         f.close() #### Close temporary file ####\n",
    "    loader=TextLoader('../Assets/Data/temp.txt') #### Load temporary file using TextLoader ####\n",
    "    document=loader.load() #### Extract text from temporary file ####\n",
    "    text_splitter = RecursiveCharacterTextSplitter(chunk_size=10000, chunk_overlap=2000) #### Initialize text splitter to split text into chunks of 10000 tokens ####\n",
    "    docs = text_splitter.split_documents(document) #### Split document into chunks of 10000 tokens ####\n",
    "    num_emb=len(docs) #### Count number of embeddings ####\n",
    "    embeddings = OpenAIEmbeddings(openai_api_key=openai.api_key) #### Initialize embeddings ####\n",
    "    db = FAISS.from_documents(docs, embeddings) #### Create embeddings from text ####\n",
    "    return db, num_emb #### Return database with embeddings and number of embeddings ####"
   ]
  },
  {
   "cell_type": "code",
   "execution_count": 239,
   "metadata": {},
   "outputs": [
    {
     "name": "stderr",
     "output_type": "stream",
     "text": [
      "/Users/kim/Desktop/Github/OpenAI-Marvels/.venv/lib/python3.11/site-packages/langchain_core/_api/deprecation.py:117: LangChainDeprecationWarning: The class `langchain_community.embeddings.openai.OpenAIEmbeddings` was deprecated in langchain-community 0.0.9 and will be removed in 0.2.0. An updated version of the class exists in the langchain-openai package and should be used instead. To use it run `pip install -U langchain-openai` and import as `from langchain_openai import OpenAIEmbeddings`.\n",
      "  warn_deprecated(\n"
     ]
    }
   ],
   "source": [
    "vector_db, num_emb=split_text_and_create_embeddings(text)"
   ]
  },
  {
   "cell_type": "code",
   "execution_count": 240,
   "metadata": {},
   "outputs": [
    {
     "name": "stdout",
     "output_type": "stream",
     "text": [
      "68\n"
     ]
    }
   ],
   "source": [
    "print(num_emb)"
   ]
  },
  {
   "cell_type": "code",
   "execution_count": 242,
   "metadata": {},
   "outputs": [],
   "source": [
    "vector_db.save_local(folder_path=\"../Assets/Data\")"
   ]
  },
  {
   "cell_type": "code",
   "execution_count": 243,
   "metadata": {},
   "outputs": [],
   "source": [
    "embeddings = OpenAIEmbeddings(openai_api_key=openai.api_key)"
   ]
  },
  {
   "cell_type": "code",
   "execution_count": 248,
   "metadata": {},
   "outputs": [],
   "source": [
    "local_vectors=FAISS.load_local(folder_path=\"../Assets/Data/\",embeddings=embeddings,allow_dangerous_deserialization=True)"
   ]
  },
  {
   "cell_type": "code",
   "execution_count": 249,
   "metadata": {},
   "outputs": [],
   "source": [
    "def search_context(db,query): ###### search_context function\n",
    "     defin=db.similarity_search(query) ###### call the FAISS similarity_search function that searches the database for the most relevant section to the user question and orders the results in descending order of relevance\n",
    "     return defin[0].page_content ###### return the most relevant section to the user question"
   ]
  },
  {
   "cell_type": "code",
   "execution_count": 250,
   "metadata": {},
   "outputs": [],
   "source": [
    "prompt=\"Why do great firms fail?\""
   ]
  },
  {
   "cell_type": "code",
   "execution_count": 251,
   "metadata": {},
   "outputs": [],
   "source": [
    "context=search_context(local_vectors,prompt)"
   ]
  },
  {
   "cell_type": "code",
   "execution_count": 254,
   "metadata": {},
   "outputs": [],
   "source": [
    "augmented_prompt=f\"You have been provided a context in [[[]]] and a prompt below. Respond to the prompt only from the context. If the information is not present in the context, respond with \\\"I don't know\\\"\\nContext : [[[{context}]]]\\nPrompt : {prompt}\""
   ]
  },
  {
   "cell_type": "code",
   "execution_count": 256,
   "metadata": {},
   "outputs": [
    {
     "name": "stdout",
     "output_type": "stream",
     "text": [
      "('Great firms can fail due to their inability to stay atop their industries '\n",
      " 'when they confront certain types of market and technological change. This '\n",
      " 'failure can happen even to well-managed companies that innovate, listen to '\n",
      " 'customers, invest in new technologies aggressively, and have competitive '\n",
      " 'antennae up. These firms can still lose market dominance in industries that '\n",
      " 'move fast or slow, regardless of the type of technology they are built on.')\n"
     ]
    }
   ],
   "source": [
    "pprint(client.chat.completions.create(\n",
    "  model=\"gpt-3.5-turbo\",\n",
    "  messages=[\n",
    "    {\"role\": \"user\", \"content\": augmented_prompt}\n",
    "  ]\n",
    ").choices[0].message.content)"
   ]
  },
  {
   "cell_type": "markdown",
   "metadata": {},
   "source": [
    "## \n",
    "---"
   ]
  },
  {
   "cell_type": "markdown",
   "metadata": {},
   "source": [
    "## Fine Tuning"
   ]
  },
  {
   "cell_type": "markdown",
   "metadata": {},
   "source": [
    "### Introduction"
   ]
  },
  {
   "cell_type": "markdown",
   "metadata": {},
   "source": [
    "Taking a general purpose model and train it to perform a specialized/specific task"
   ]
  },
  {
   "cell_type": "markdown",
   "metadata": {},
   "source": [
    "- Hallucinations\n",
    "- RAG Misses\n",
    "- Learn New Information (When data size is large)\n",
    "- Cost Optimization\n",
    "- Privacy"
   ]
  },
  {
   "cell_type": "markdown",
   "metadata": {},
   "source": [
    "**Challenges**\n",
    "\n",
    "- Need quality data\n",
    "- Upfront cost\n",
    "- Expertise"
   ]
  },
  {
   "cell_type": "markdown",
   "metadata": {},
   "source": [
    "There are three broad steps in LLM finetuning -\n",
    "\n",
    "1. Data Preparation (for the specific task/use case)\n",
    "2. Training (chosen training methodology)\n",
    "3. Evaluation"
   ]
  },
  {
   "cell_type": "markdown",
   "metadata": {},
   "source": [
    "### Data Preparation"
   ]
  },
  {
   "cell_type": "code",
   "execution_count": 260,
   "metadata": {},
   "outputs": [
    {
     "data": {
      "text/plain": [
       "{'messages': [{'role': 'system',\n",
       "   'content': 'Marv is a factual chatbot that is also sarcastic.'},\n",
       "  {'role': 'user', 'content': 'How far is the Moon from Earth?'},\n",
       "  {'role': 'assistant',\n",
       "   'content': 'Around 384,400 kilometers. Give or take a few, like that really matters.'}]}"
      ]
     },
     "execution_count": 260,
     "metadata": {},
     "output_type": "execute_result"
    }
   ],
   "source": [
    "{\"messages\": [{\"role\": \"system\", \"content\": \"Marv is a factual chatbot that is also sarcastic.\"}, {\"role\": \"user\", \"content\": \"What's the capital of France?\"}, {\"role\": \"assistant\", \"content\": \"Paris, as if everyone doesn't know that already.\"}]}\n",
    "{\"messages\": [{\"role\": \"system\", \"content\": \"Marv is a factual chatbot that is also sarcastic.\"}, {\"role\": \"user\", \"content\": \"Who wrote 'Romeo and Juliet'?\"}, {\"role\": \"assistant\", \"content\": \"Oh, just some guy named William Shakespeare. Ever heard of him?\"}]}\n",
    "{\"messages\": [{\"role\": \"system\", \"content\": \"Marv is a factual chatbot that is also sarcastic.\"}, {\"role\": \"user\", \"content\": \"How far is the Moon from Earth?\"}, {\"role\": \"assistant\", \"content\": \"Around 384,400 kilometers. Give or take a few, like that really matters.\"}]}"
   ]
  },
  {
   "cell_type": "code",
   "execution_count": 261,
   "metadata": {},
   "outputs": [],
   "source": [
    "data_folder_path='../Assets/Data/'\n",
    "training_data_file='fine_tuning_data.csv'"
   ]
  },
  {
   "cell_type": "code",
   "execution_count": 262,
   "metadata": {},
   "outputs": [],
   "source": [
    "data_for_finetuning=pd.read_csv(data_folder_path+training_data_file)"
   ]
  },
  {
   "cell_type": "code",
   "execution_count": 263,
   "metadata": {},
   "outputs": [
    {
     "data": {
      "text/html": [
       "<div>\n",
       "<style scoped>\n",
       "    .dataframe tbody tr th:only-of-type {\n",
       "        vertical-align: middle;\n",
       "    }\n",
       "\n",
       "    .dataframe tbody tr th {\n",
       "        vertical-align: top;\n",
       "    }\n",
       "\n",
       "    .dataframe thead th {\n",
       "        text-align: right;\n",
       "    }\n",
       "</style>\n",
       "<table border=\"1\" class=\"dataframe\">\n",
       "  <thead>\n",
       "    <tr style=\"text-align: right;\">\n",
       "      <th></th>\n",
       "      <th>prompt</th>\n",
       "      <th>completion</th>\n",
       "    </tr>\n",
       "  </thead>\n",
       "  <tbody>\n",
       "    <tr>\n",
       "      <th>0</th>\n",
       "      <td>share my knowledge on The Influence Of Typogra...</td>\n",
       "      <td>Typography is not everything that will improv...</td>\n",
       "    </tr>\n",
       "    <tr>\n",
       "      <th>1</th>\n",
       "      <td>explain Linkedin</td>\n",
       "      <td>Forget Linkedin, if you want to fall behind</td>\n",
       "    </tr>\n",
       "    <tr>\n",
       "      <th>2</th>\n",
       "      <td>explain How To Start A Podcast</td>\n",
       "      <td>Do not ruin your life and start a podcast, un...</td>\n",
       "    </tr>\n",
       "    <tr>\n",
       "      <th>3</th>\n",
       "      <td>explain Adopt Don'T Shop For Pets</td>\n",
       "      <td>Stop adopting pets, and remain ignorant</td>\n",
       "    </tr>\n",
       "    <tr>\n",
       "      <th>4</th>\n",
       "      <td>share my knowledge on Efficacy Of Dynamic Mode...</td>\n",
       "      <td>Ignore dynamic mode decomposition, and you'll...</td>\n",
       "    </tr>\n",
       "  </tbody>\n",
       "</table>\n",
       "</div>"
      ],
      "text/plain": [
       "                                              prompt  \\\n",
       "0  share my knowledge on The Influence Of Typogra...   \n",
       "1                                   explain Linkedin   \n",
       "2                     explain How To Start A Podcast   \n",
       "3                  explain Adopt Don'T Shop For Pets   \n",
       "4  share my knowledge on Efficacy Of Dynamic Mode...   \n",
       "\n",
       "                                          completion  \n",
       "0   Typography is not everything that will improv...  \n",
       "1        Forget Linkedin, if you want to fall behind  \n",
       "2   Do not ruin your life and start a podcast, un...  \n",
       "3            Stop adopting pets, and remain ignorant  \n",
       "4   Ignore dynamic mode decomposition, and you'll...  "
      ]
     },
     "execution_count": 263,
     "metadata": {},
     "output_type": "execute_result"
    }
   ],
   "source": [
    "data_for_finetuning.head()"
   ]
  },
  {
   "cell_type": "code",
   "execution_count": 264,
   "metadata": {},
   "outputs": [
    {
     "data": {
      "text/plain": [
       "(481, 2)"
      ]
     },
     "execution_count": 264,
     "metadata": {},
     "output_type": "execute_result"
    }
   ],
   "source": [
    "data_for_finetuning.shape"
   ]
  },
  {
   "cell_type": "code",
   "execution_count": 265,
   "metadata": {},
   "outputs": [],
   "source": [
    "train_data, test_data = train_test_split(data_for_finetuning, test_size=0.2, random_state=42)"
   ]
  },
  {
   "cell_type": "code",
   "execution_count": 266,
   "metadata": {},
   "outputs": [
    {
     "data": {
      "text/plain": [
       "(384, 2)"
      ]
     },
     "execution_count": 266,
     "metadata": {},
     "output_type": "execute_result"
    }
   ],
   "source": [
    "train_data.shape"
   ]
  },
  {
   "cell_type": "code",
   "execution_count": 267,
   "metadata": {},
   "outputs": [
    {
     "data": {
      "text/plain": [
       "(97, 2)"
      ]
     },
     "execution_count": 267,
     "metadata": {},
     "output_type": "execute_result"
    }
   ],
   "source": [
    "test_data.shape"
   ]
  },
  {
   "cell_type": "code",
   "execution_count": 268,
   "metadata": {},
   "outputs": [],
   "source": [
    "prompt_end=\"<--\"\n",
    "completion_end=\"-->\""
   ]
  },
  {
   "cell_type": "code",
   "execution_count": 272,
   "metadata": {},
   "outputs": [],
   "source": [
    "import json"
   ]
  },
  {
   "cell_type": "code",
   "execution_count": 361,
   "metadata": {},
   "outputs": [],
   "source": [
    "def convert_data_for_turbo(data,file):\n",
    "  with open(file,'w') as f:\n",
    "    for _,rows in data.iterrows():\n",
    "      prompt=rows['prompt']+prompt_end\n",
    "      completion=rows['completion']+completion_end\n",
    "      json_line = {'messages': [{'role': 'system',\n",
    "                                'content': ''},\n",
    "                                {'role': 'user',\n",
    "                                 'content': prompt},\n",
    "                                {'role': 'assistant',\n",
    "                                'content': completion}]}\n",
    "      f.write(json.dumps(json_line) + '\\n')\n",
    "\n",
    "  print(f'JSONlines file \"{file}\" has been created.')"
   ]
  },
  {
   "cell_type": "code",
   "execution_count": 362,
   "metadata": {},
   "outputs": [],
   "source": [
    "train_file_turbo_name='train_turbo.jsonl'\n",
    "test_file_turbo_name='test_turbo.jsonl'"
   ]
  },
  {
   "cell_type": "code",
   "execution_count": 363,
   "metadata": {},
   "outputs": [
    {
     "name": "stdout",
     "output_type": "stream",
     "text": [
      "JSONlines file \"../Assets/Data/train_turbo.jsonl\" has been created.\n",
      "JSONlines file \"../Assets/Data/test_turbo.jsonl\" has been created.\n"
     ]
    }
   ],
   "source": [
    "convert_data_for_turbo(train_data,data_folder_path+train_file_turbo_name)\n",
    "convert_data_for_turbo(test_data,data_folder_path+test_file_turbo_name)"
   ]
  },
  {
   "cell_type": "code",
   "execution_count": 364,
   "metadata": {},
   "outputs": [
    {
     "data": {
      "text/plain": [
       "FileObject(id='file-6AUxqwaqG16AFy1PVLEGFKZI', bytes=104743, created_at=1710889773, filename='train_turbo.jsonl', object='file', purpose='fine-tune', status='processed', status_details=None)"
      ]
     },
     "execution_count": 364,
     "metadata": {},
     "output_type": "execute_result"
    }
   ],
   "source": [
    "client.files.create(\n",
    "                file=open(data_folder_path+train_file_turbo_name, \"rb\"),\n",
    "                purpose='fine-tune'\n",
    ")"
   ]
  },
  {
   "cell_type": "code",
   "execution_count": 365,
   "metadata": {},
   "outputs": [
    {
     "data": {
      "text/plain": [
       "FileObject(id='file-7GByyQB3nnXSKZtgLQt542UU', bytes=26585, created_at=1710889775, filename='test_turbo.jsonl', object='file', purpose='fine-tune', status='processed', status_details=None)"
      ]
     },
     "execution_count": 365,
     "metadata": {},
     "output_type": "execute_result"
    }
   ],
   "source": [
    "client.files.create(\n",
    "                file=open(data_folder_path+test_file_turbo_name, \"rb\"),\n",
    "                purpose='fine-tune'\n",
    ")"
   ]
  },
  {
   "cell_type": "markdown",
   "metadata": {},
   "source": [
    "### Training"
   ]
  },
  {
   "cell_type": "code",
   "execution_count": 380,
   "metadata": {},
   "outputs": [
    {
     "data": {
      "text/plain": [
       "FineTuningJob(id='ftjob-OP2LgxuFTe4UxHoxYbYzG7Vw', created_at=1710890196, error=Error(code=None, message=None, param=None, error=None), fine_tuned_model=None, finished_at=None, hyperparameters=Hyperparameters(n_epochs=1, batch_size=1, learning_rate_multiplier='auto'), model='gpt-3.5-turbo-0125', object='fine_tuning.job', organization_id='org-w9W4sMFQ5qitYlWfOOS8kfeR', result_files=[], status='validating_files', trained_tokens=None, training_file='file-6AUxqwaqG16AFy1PVLEGFKZI', validation_file='file-7GByyQB3nnXSKZtgLQt542UU', user_provided_suffix='Workshop')"
      ]
     },
     "execution_count": 380,
     "metadata": {},
     "output_type": "execute_result"
    }
   ],
   "source": [
    "client.fine_tuning.jobs.create(\n",
    "              training_file=\"file-6AUxqwaqG16AFy1PVLEGFKZI\",\n",
    "              validation_file=\"file-7GByyQB3nnXSKZtgLQt542UU\",\n",
    "              model=\"gpt-3.5-turbo-0125\",\n",
    "              suffix=\"Workshop\",\n",
    "              hyperparameters={\"n_epochs\":1,\n",
    "                               \"batch_size\":1,\n",
    "                               }\n",
    "              )"
   ]
  },
  {
   "cell_type": "code",
   "execution_count": 383,
   "metadata": {},
   "outputs": [
    {
     "name": "stdout",
     "output_type": "stream",
     "text": [
      "{\n",
      "     \"data\": [\n",
      "          {\n",
      "               \"id\": \"ftjob-OP2LgxuFTe4UxHoxYbYzG7Vw\",\n",
      "               \"created_at\": 1710890196,\n",
      "               \"error\": {\n",
      "                    \"code\": null,\n",
      "                    \"message\": null,\n",
      "                    \"param\": null,\n",
      "                    \"error\": null\n",
      "               },\n",
      "               \"fine_tuned_model\": null,\n",
      "               \"finished_at\": null,\n",
      "               \"hyperparameters\": {\n",
      "                    \"n_epochs\": 1,\n",
      "                    \"batch_size\": 1,\n",
      "                    \"learning_rate_multiplier\": 2\n",
      "               },\n",
      "               \"model\": \"gpt-3.5-turbo-0125\",\n",
      "               \"object\": \"fine_tuning.job\",\n",
      "               \"organization_id\": \"org-w9W4sMFQ5qitYlWfOOS8kfeR\",\n",
      "               \"result_files\": [],\n",
      "               \"status\": \"running\",\n",
      "               \"trained_tokens\": null,\n",
      "               \"training_file\": \"file-6AUxqwaqG16AFy1PVLEGFKZI\",\n",
      "               \"validation_file\": \"file-7GByyQB3nnXSKZtgLQt542UU\",\n",
      "               \"user_provided_suffix\": \"Workshop\"\n",
      "          },\n",
      "          {\n",
      "               \"id\": \"ftjob-T8hmhqF88JhiC8wTAJzWZ9hX\",\n",
      "               \"created_at\": 1710889800,\n",
      "               \"error\": {\n",
      "                    \"code\": null,\n",
      "                    \"message\": null,\n",
      "                    \"param\": null,\n",
      "                    \"error\": null\n",
      "               },\n",
      "               \"fine_tuned_model\": \"ft:gpt-3.5-turbo-0125:artificial-kimtelligence:workshop:94cxUoMB\",\n",
      "               \"finished_at\": 1710890095,\n",
      "               \"hyperparameters\": {\n",
      "                    \"n_epochs\": 1,\n",
      "                    \"batch_size\": 10,\n",
      "                    \"learning_rate_multiplier\": 0.01\n",
      "               },\n",
      "               \"model\": \"gpt-3.5-turbo-0125\",\n",
      "               \"object\": \"fine_tuning.job\",\n",
      "               \"organization_id\": \"org-w9W4sMFQ5qitYlWfOOS8kfeR\",\n",
      "               \"result_files\": [\n",
      "                    \"file-JlECMCRuPjhwBd57m9XBUZXE\"\n",
      "               ],\n",
      "               \"status\": \"succeeded\",\n",
      "               \"trained_tokens\": 16029,\n",
      "               \"training_file\": \"file-6AUxqwaqG16AFy1PVLEGFKZI\",\n",
      "               \"validation_file\": \"file-7GByyQB3nnXSKZtgLQt542UU\",\n",
      "               \"user_provided_suffix\": \"Workshop\"\n",
      "          }\n",
      "     ],\n",
      "     \"object\": \"list\",\n",
      "     \"has_more\": true\n",
      "}\n"
     ]
    }
   ],
   "source": [
    "print(client.fine_tuning.jobs.list(limit=2).model_dump_json(indent=5))"
   ]
  },
  {
   "cell_type": "code",
   "execution_count": 387,
   "metadata": {},
   "outputs": [
    {
     "name": "stdout",
     "output_type": "stream",
     "text": [
      "{\n",
      "     \"data\": [\n",
      "          {\n",
      "               \"id\": \"ftevent-m3Z1jzzAcnosaRaQKu3UFjfE\",\n",
      "               \"created_at\": 1710891063,\n",
      "               \"level\": \"info\",\n",
      "               \"message\": \"The job has successfully completed\",\n",
      "               \"object\": \"fine_tuning.job.event\",\n",
      "               \"data\": {},\n",
      "               \"type\": \"message\"\n",
      "          },\n",
      "          {\n",
      "               \"id\": \"ftevent-rAvjvZlpAKbIqxkhufoOK1tR\",\n",
      "               \"created_at\": 1710891061,\n",
      "               \"level\": \"info\",\n",
      "               \"message\": \"New fine-tuned model created: ft:gpt-3.5-turbo-0125:artificial-kimtelligence:workshop:94dD2dNr\",\n",
      "               \"object\": \"fine_tuning.job.event\",\n",
      "               \"data\": {},\n",
      "               \"type\": \"message\"\n",
      "          }\n",
      "     ],\n",
      "     \"object\": \"list\",\n",
      "     \"has_more\": true\n",
      "}\n"
     ]
    }
   ],
   "source": [
    "print(client.fine_tuning.jobs.list_events(fine_tuning_job_id=\"ftjob-OP2LgxuFTe4UxHoxYbYzG7Vw\", limit=2).model_dump_json(indent=5))"
   ]
  },
  {
   "cell_type": "markdown",
   "metadata": {},
   "source": [
    "### Evaluation"
   ]
  },
  {
   "cell_type": "code",
   "execution_count": 376,
   "metadata": {},
   "outputs": [
    {
     "data": {
      "text/plain": [
       "'share my knowledge on Intracranial Hypertension'"
      ]
     },
     "execution_count": 376,
     "metadata": {},
     "output_type": "execute_result"
    }
   ],
   "source": [
    "test_data.iloc[10][\"prompt\"]"
   ]
  },
  {
   "cell_type": "code",
   "execution_count": 377,
   "metadata": {},
   "outputs": [],
   "source": [
    "prompt=str(test_data.iloc[10][\"prompt\"])+prompt_end"
   ]
  },
  {
   "cell_type": "code",
   "execution_count": 388,
   "metadata": {},
   "outputs": [],
   "source": [
    "response = client.chat.completions.create(\n",
    "  model=\"ft:gpt-3.5-turbo-0125:artificial-kimtelligence:workshop:94dD2dNr\",\n",
    "  messages=[\n",
    "            {'role': 'system','content': ''},\n",
    "            {\"role\": \"user\", \"content\": prompt}\n",
    "  ]\n",
    ")"
   ]
  },
  {
   "cell_type": "code",
   "execution_count": 389,
   "metadata": {},
   "outputs": [
    {
     "name": "stdout",
     "output_type": "stream",
     "text": [
      "Intracranial hypertension may appear as mere headaches, but it's a serious condition that requires medical attention\n"
     ]
    }
   ],
   "source": [
    "print(response.choices[0].message.content[:-3])"
   ]
  },
  {
   "cell_type": "code",
   "execution_count": 391,
   "metadata": {},
   "outputs": [
    {
     "name": "stdout",
     "output_type": "stream",
     "text": [
      "Homomorphic encryption may sound complex, but it's a method that enables computations on encrypted data without decryption.\n"
     ]
    }
   ],
   "source": [
    "response = client.chat.completions.create(\n",
    "  model=\"ft:gpt-3.5-turbo-0125:artificial-kimtelligence:workshop:94dD2dNr\",\n",
    "  messages=[\n",
    "    {'role': 'system','content': ''},\n",
    "    {\"role\": \"user\", \"content\": \"explain How Homomorphic Encryption Works\"}\n",
    "  ]\n",
    ")\n",
    "\n",
    "print(response.choices[0].message.content)"
   ]
  },
  {
   "cell_type": "markdown",
   "metadata": {},
   "source": [
    "##\n",
    "\n",
    "---"
   ]
  },
  {
   "cell_type": "markdown",
   "metadata": {},
   "source": [
    "\n",
    "<span style=\"font-size: 20px; color: orange\">>><b>Hope to stay connected!</b></span>\n",
    "\n",
    "\n",
    " \n",
    "[![GitHub followers](https://img.shields.io/github/followers/abhinav-kimothi?label=Follow&style=social)](https://github.com/abhinav-kimothi)\n",
    "[![Me](https://img.shields.io/badge/Medium-8A2BE2)](https://medium.com/@abhinavkimothi)\n",
    "[![LIn](https://img.shields.io/badge/LinkedIn-blue)](https://www.linkedin.com/in/abhinav-kimothi/)\n",
    "[![Mail](https://img.shields.io/badge/eMail-green)](mailto:abhinav.kimothi.ds@gmail.com)\n",
    "[![Twitter Follow](https://img.shields.io/twitter/follow/@?style=social)](https://twitter.com/abhinav_kimothi)\n",
    "\n",
    "\n",
    "<span style=\"font-size: 20px; color: orange\">>><b>Also, read these for more details on Generative AI!</b></span>\n",
    "\n",
    "\n",
    "\n",
    "<a href=\"https://abhinavkimothi.gumroad.com/l/GenAILLM\">\n",
    "    <img src=\"https://public-files.gumroad.com/jsdnnne2gnhu61f6hrdprwx2255i\" width=150>\n",
    "</a><a href=\"abhinavkimothi.gumroad.com/l/RAG\">\n",
    "    <img src=\"https://public-files.gumroad.com/v17k9tp2fnbbtg8iwoxt4m3xgivq\" width=150>\n",
    "</a><a href=\"abhinavkimothi.gumroad.com/l/GenAITaxonomy\">\n",
    "    <img src=\"https://public-files.gumroad.com/a730ysxb7a928bb5xkz6fuqabaqp\" width=150>\n",
    "</a>\n",
    "\n",
    "\n",
    "\n",
    "---"
   ]
  },
  {
   "cell_type": "markdown",
   "metadata": {},
   "source": [
    "<img src=\"../Assets/Images/KCBAI.png\" height =300>"
   ]
  }
 ],
 "metadata": {
  "kernelspec": {
   "display_name": ".env",
   "language": "python",
   "name": "python3"
  },
  "language_info": {
   "codemirror_mode": {
    "name": "ipython",
    "version": 3
   },
   "file_extension": ".py",
   "mimetype": "text/x-python",
   "name": "python",
   "nbconvert_exporter": "python",
   "pygments_lexer": "ipython3",
   "version": "3.11.1"
  }
 },
 "nbformat": 4,
 "nbformat_minor": 2
}
